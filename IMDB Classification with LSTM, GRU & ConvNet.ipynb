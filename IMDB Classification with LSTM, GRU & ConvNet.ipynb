{
  "nbformat": 4,
  "nbformat_minor": 0,
  "metadata": {
    "accelerator": "GPU",
    "colab": {
      "name": "Course 3 - Week 3 - Lesson 2d.ipynb",
      "provenance": [],
      "collapsed_sections": [],
      "toc_visible": true
    },
    "kernelspec": {
      "display_name": "Python 3",
      "name": "python3"
    },
    "widgets": {
      "application/vnd.jupyter.widget-state+json": {
        "283e672936c4485b81416681d24e6343": {
          "model_module": "@jupyter-widgets/controls",
          "model_name": "HBoxModel",
          "state": {
            "_view_name": "HBoxView",
            "_dom_classes": [],
            "_model_name": "HBoxModel",
            "_view_module": "@jupyter-widgets/controls",
            "_model_module_version": "1.5.0",
            "_view_count": null,
            "_view_module_version": "1.5.0",
            "box_style": "",
            "layout": "IPY_MODEL_578dff65969a4bd897968cc6c24c0adc",
            "_model_module": "@jupyter-widgets/controls",
            "children": [
              "IPY_MODEL_0e14a1f75a5e40f0b06ba00aa356d4a8",
              "IPY_MODEL_3122e687a2f44a5a8d889f34119f43f8"
            ]
          }
        },
        "578dff65969a4bd897968cc6c24c0adc": {
          "model_module": "@jupyter-widgets/base",
          "model_name": "LayoutModel",
          "state": {
            "_view_name": "LayoutView",
            "grid_template_rows": null,
            "right": null,
            "justify_content": null,
            "_view_module": "@jupyter-widgets/base",
            "overflow": null,
            "_model_module_version": "1.2.0",
            "_view_count": null,
            "flex_flow": null,
            "width": null,
            "min_width": null,
            "border": null,
            "align_items": null,
            "bottom": null,
            "_model_module": "@jupyter-widgets/base",
            "top": null,
            "grid_column": null,
            "overflow_y": null,
            "overflow_x": null,
            "grid_auto_flow": null,
            "grid_area": null,
            "grid_template_columns": null,
            "flex": null,
            "_model_name": "LayoutModel",
            "justify_items": null,
            "grid_row": null,
            "max_height": null,
            "align_content": null,
            "visibility": null,
            "align_self": null,
            "height": null,
            "min_height": null,
            "padding": null,
            "grid_auto_rows": null,
            "grid_gap": null,
            "max_width": null,
            "order": null,
            "_view_module_version": "1.2.0",
            "grid_template_areas": null,
            "object_position": null,
            "object_fit": null,
            "grid_auto_columns": null,
            "margin": null,
            "display": null,
            "left": null
          }
        },
        "0e14a1f75a5e40f0b06ba00aa356d4a8": {
          "model_module": "@jupyter-widgets/controls",
          "model_name": "FloatProgressModel",
          "state": {
            "_view_name": "ProgressView",
            "style": "IPY_MODEL_2e30154cd7284f4388d0f4572642a2c7",
            "_dom_classes": [],
            "description": "Dl Completed...: 100%",
            "_model_name": "FloatProgressModel",
            "bar_style": "success",
            "max": 1,
            "_view_module": "@jupyter-widgets/controls",
            "_model_module_version": "1.5.0",
            "value": 1,
            "_view_count": null,
            "_view_module_version": "1.5.0",
            "orientation": "horizontal",
            "min": 0,
            "description_tooltip": null,
            "_model_module": "@jupyter-widgets/controls",
            "layout": "IPY_MODEL_5f7cfb0bb2934b158aecb2e55d7785ef"
          }
        },
        "3122e687a2f44a5a8d889f34119f43f8": {
          "model_module": "@jupyter-widgets/controls",
          "model_name": "HTMLModel",
          "state": {
            "_view_name": "HTMLView",
            "style": "IPY_MODEL_740318456bc74ddcb7e385b93164cb1a",
            "_dom_classes": [],
            "description": "",
            "_model_name": "HTMLModel",
            "placeholder": "​",
            "_view_module": "@jupyter-widgets/controls",
            "_model_module_version": "1.5.0",
            "value": " 1/1 [00:03&lt;00:00,  3.39s/ url]",
            "_view_count": null,
            "_view_module_version": "1.5.0",
            "description_tooltip": null,
            "_model_module": "@jupyter-widgets/controls",
            "layout": "IPY_MODEL_acabd9ab5bd041d7ac4399f818a14f2f"
          }
        },
        "2e30154cd7284f4388d0f4572642a2c7": {
          "model_module": "@jupyter-widgets/controls",
          "model_name": "ProgressStyleModel",
          "state": {
            "_view_name": "StyleView",
            "_model_name": "ProgressStyleModel",
            "description_width": "initial",
            "_view_module": "@jupyter-widgets/base",
            "_model_module_version": "1.5.0",
            "_view_count": null,
            "_view_module_version": "1.2.0",
            "bar_color": null,
            "_model_module": "@jupyter-widgets/controls"
          }
        },
        "5f7cfb0bb2934b158aecb2e55d7785ef": {
          "model_module": "@jupyter-widgets/base",
          "model_name": "LayoutModel",
          "state": {
            "_view_name": "LayoutView",
            "grid_template_rows": null,
            "right": null,
            "justify_content": null,
            "_view_module": "@jupyter-widgets/base",
            "overflow": null,
            "_model_module_version": "1.2.0",
            "_view_count": null,
            "flex_flow": null,
            "width": null,
            "min_width": null,
            "border": null,
            "align_items": null,
            "bottom": null,
            "_model_module": "@jupyter-widgets/base",
            "top": null,
            "grid_column": null,
            "overflow_y": null,
            "overflow_x": null,
            "grid_auto_flow": null,
            "grid_area": null,
            "grid_template_columns": null,
            "flex": null,
            "_model_name": "LayoutModel",
            "justify_items": null,
            "grid_row": null,
            "max_height": null,
            "align_content": null,
            "visibility": null,
            "align_self": null,
            "height": null,
            "min_height": null,
            "padding": null,
            "grid_auto_rows": null,
            "grid_gap": null,
            "max_width": null,
            "order": null,
            "_view_module_version": "1.2.0",
            "grid_template_areas": null,
            "object_position": null,
            "object_fit": null,
            "grid_auto_columns": null,
            "margin": null,
            "display": null,
            "left": null
          }
        },
        "740318456bc74ddcb7e385b93164cb1a": {
          "model_module": "@jupyter-widgets/controls",
          "model_name": "DescriptionStyleModel",
          "state": {
            "_view_name": "StyleView",
            "_model_name": "DescriptionStyleModel",
            "description_width": "",
            "_view_module": "@jupyter-widgets/base",
            "_model_module_version": "1.5.0",
            "_view_count": null,
            "_view_module_version": "1.2.0",
            "_model_module": "@jupyter-widgets/controls"
          }
        },
        "acabd9ab5bd041d7ac4399f818a14f2f": {
          "model_module": "@jupyter-widgets/base",
          "model_name": "LayoutModel",
          "state": {
            "_view_name": "LayoutView",
            "grid_template_rows": null,
            "right": null,
            "justify_content": null,
            "_view_module": "@jupyter-widgets/base",
            "overflow": null,
            "_model_module_version": "1.2.0",
            "_view_count": null,
            "flex_flow": null,
            "width": null,
            "min_width": null,
            "border": null,
            "align_items": null,
            "bottom": null,
            "_model_module": "@jupyter-widgets/base",
            "top": null,
            "grid_column": null,
            "overflow_y": null,
            "overflow_x": null,
            "grid_auto_flow": null,
            "grid_area": null,
            "grid_template_columns": null,
            "flex": null,
            "_model_name": "LayoutModel",
            "justify_items": null,
            "grid_row": null,
            "max_height": null,
            "align_content": null,
            "visibility": null,
            "align_self": null,
            "height": null,
            "min_height": null,
            "padding": null,
            "grid_auto_rows": null,
            "grid_gap": null,
            "max_width": null,
            "order": null,
            "_view_module_version": "1.2.0",
            "grid_template_areas": null,
            "object_position": null,
            "object_fit": null,
            "grid_auto_columns": null,
            "margin": null,
            "display": null,
            "left": null
          }
        },
        "5c11364068434227a650468781e5899c": {
          "model_module": "@jupyter-widgets/controls",
          "model_name": "HBoxModel",
          "state": {
            "_view_name": "HBoxView",
            "_dom_classes": [],
            "_model_name": "HBoxModel",
            "_view_module": "@jupyter-widgets/controls",
            "_model_module_version": "1.5.0",
            "_view_count": null,
            "_view_module_version": "1.5.0",
            "box_style": "",
            "layout": "IPY_MODEL_f2505ff1377d4241b7d109c715abe1bf",
            "_model_module": "@jupyter-widgets/controls",
            "children": [
              "IPY_MODEL_4539a421c677435a8e57f711cbe2d4bb",
              "IPY_MODEL_eba83208d7184f26a7dc4865ecc0b806"
            ]
          }
        },
        "f2505ff1377d4241b7d109c715abe1bf": {
          "model_module": "@jupyter-widgets/base",
          "model_name": "LayoutModel",
          "state": {
            "_view_name": "LayoutView",
            "grid_template_rows": null,
            "right": null,
            "justify_content": null,
            "_view_module": "@jupyter-widgets/base",
            "overflow": null,
            "_model_module_version": "1.2.0",
            "_view_count": null,
            "flex_flow": null,
            "width": null,
            "min_width": null,
            "border": null,
            "align_items": null,
            "bottom": null,
            "_model_module": "@jupyter-widgets/base",
            "top": null,
            "grid_column": null,
            "overflow_y": null,
            "overflow_x": null,
            "grid_auto_flow": null,
            "grid_area": null,
            "grid_template_columns": null,
            "flex": null,
            "_model_name": "LayoutModel",
            "justify_items": null,
            "grid_row": null,
            "max_height": null,
            "align_content": null,
            "visibility": null,
            "align_self": null,
            "height": null,
            "min_height": null,
            "padding": null,
            "grid_auto_rows": null,
            "grid_gap": null,
            "max_width": null,
            "order": null,
            "_view_module_version": "1.2.0",
            "grid_template_areas": null,
            "object_position": null,
            "object_fit": null,
            "grid_auto_columns": null,
            "margin": null,
            "display": null,
            "left": null
          }
        },
        "4539a421c677435a8e57f711cbe2d4bb": {
          "model_module": "@jupyter-widgets/controls",
          "model_name": "FloatProgressModel",
          "state": {
            "_view_name": "ProgressView",
            "style": "IPY_MODEL_b1eff8987fcb4894840955469a5cb264",
            "_dom_classes": [],
            "description": "Dl Size...: 100%",
            "_model_name": "FloatProgressModel",
            "bar_style": "success",
            "max": 1,
            "_view_module": "@jupyter-widgets/controls",
            "_model_module_version": "1.5.0",
            "value": 1,
            "_view_count": null,
            "_view_module_version": "1.5.0",
            "orientation": "horizontal",
            "min": 0,
            "description_tooltip": null,
            "_model_module": "@jupyter-widgets/controls",
            "layout": "IPY_MODEL_fe0f4da4135641a4b35373e7908e3fca"
          }
        },
        "eba83208d7184f26a7dc4865ecc0b806": {
          "model_module": "@jupyter-widgets/controls",
          "model_name": "HTMLModel",
          "state": {
            "_view_name": "HTMLView",
            "style": "IPY_MODEL_d65a997d3304487b95e73a3e342ce78d",
            "_dom_classes": [],
            "description": "",
            "_model_name": "HTMLModel",
            "placeholder": "​",
            "_view_module": "@jupyter-widgets/controls",
            "_model_module_version": "1.5.0",
            "value": " 80/80 [00:03&lt;00:00, 23.85 MiB/s]",
            "_view_count": null,
            "_view_module_version": "1.5.0",
            "description_tooltip": null,
            "_model_module": "@jupyter-widgets/controls",
            "layout": "IPY_MODEL_f2abc97aa9db409db99e0ccdf7a43812"
          }
        },
        "b1eff8987fcb4894840955469a5cb264": {
          "model_module": "@jupyter-widgets/controls",
          "model_name": "ProgressStyleModel",
          "state": {
            "_view_name": "StyleView",
            "_model_name": "ProgressStyleModel",
            "description_width": "initial",
            "_view_module": "@jupyter-widgets/base",
            "_model_module_version": "1.5.0",
            "_view_count": null,
            "_view_module_version": "1.2.0",
            "bar_color": null,
            "_model_module": "@jupyter-widgets/controls"
          }
        },
        "fe0f4da4135641a4b35373e7908e3fca": {
          "model_module": "@jupyter-widgets/base",
          "model_name": "LayoutModel",
          "state": {
            "_view_name": "LayoutView",
            "grid_template_rows": null,
            "right": null,
            "justify_content": null,
            "_view_module": "@jupyter-widgets/base",
            "overflow": null,
            "_model_module_version": "1.2.0",
            "_view_count": null,
            "flex_flow": null,
            "width": null,
            "min_width": null,
            "border": null,
            "align_items": null,
            "bottom": null,
            "_model_module": "@jupyter-widgets/base",
            "top": null,
            "grid_column": null,
            "overflow_y": null,
            "overflow_x": null,
            "grid_auto_flow": null,
            "grid_area": null,
            "grid_template_columns": null,
            "flex": null,
            "_model_name": "LayoutModel",
            "justify_items": null,
            "grid_row": null,
            "max_height": null,
            "align_content": null,
            "visibility": null,
            "align_self": null,
            "height": null,
            "min_height": null,
            "padding": null,
            "grid_auto_rows": null,
            "grid_gap": null,
            "max_width": null,
            "order": null,
            "_view_module_version": "1.2.0",
            "grid_template_areas": null,
            "object_position": null,
            "object_fit": null,
            "grid_auto_columns": null,
            "margin": null,
            "display": null,
            "left": null
          }
        },
        "d65a997d3304487b95e73a3e342ce78d": {
          "model_module": "@jupyter-widgets/controls",
          "model_name": "DescriptionStyleModel",
          "state": {
            "_view_name": "StyleView",
            "_model_name": "DescriptionStyleModel",
            "description_width": "",
            "_view_module": "@jupyter-widgets/base",
            "_model_module_version": "1.5.0",
            "_view_count": null,
            "_view_module_version": "1.2.0",
            "_model_module": "@jupyter-widgets/controls"
          }
        },
        "f2abc97aa9db409db99e0ccdf7a43812": {
          "model_module": "@jupyter-widgets/base",
          "model_name": "LayoutModel",
          "state": {
            "_view_name": "LayoutView",
            "grid_template_rows": null,
            "right": null,
            "justify_content": null,
            "_view_module": "@jupyter-widgets/base",
            "overflow": null,
            "_model_module_version": "1.2.0",
            "_view_count": null,
            "flex_flow": null,
            "width": null,
            "min_width": null,
            "border": null,
            "align_items": null,
            "bottom": null,
            "_model_module": "@jupyter-widgets/base",
            "top": null,
            "grid_column": null,
            "overflow_y": null,
            "overflow_x": null,
            "grid_auto_flow": null,
            "grid_area": null,
            "grid_template_columns": null,
            "flex": null,
            "_model_name": "LayoutModel",
            "justify_items": null,
            "grid_row": null,
            "max_height": null,
            "align_content": null,
            "visibility": null,
            "align_self": null,
            "height": null,
            "min_height": null,
            "padding": null,
            "grid_auto_rows": null,
            "grid_gap": null,
            "max_width": null,
            "order": null,
            "_view_module_version": "1.2.0",
            "grid_template_areas": null,
            "object_position": null,
            "object_fit": null,
            "grid_auto_columns": null,
            "margin": null,
            "display": null,
            "left": null
          }
        },
        "49576914a04746738d0d30897bc70f0a": {
          "model_module": "@jupyter-widgets/controls",
          "model_name": "HBoxModel",
          "state": {
            "_view_name": "HBoxView",
            "_dom_classes": [],
            "_model_name": "HBoxModel",
            "_view_module": "@jupyter-widgets/controls",
            "_model_module_version": "1.5.0",
            "_view_count": null,
            "_view_module_version": "1.5.0",
            "box_style": "",
            "layout": "IPY_MODEL_90a0f9c6fec04d7090821dff9422d879",
            "_model_module": "@jupyter-widgets/controls",
            "children": [
              "IPY_MODEL_500d2cda38224a288da9642c1a432d35",
              "IPY_MODEL_749fe700480e4af39ebd4a5938e6d55c"
            ]
          }
        },
        "90a0f9c6fec04d7090821dff9422d879": {
          "model_module": "@jupyter-widgets/base",
          "model_name": "LayoutModel",
          "state": {
            "_view_name": "LayoutView",
            "grid_template_rows": null,
            "right": null,
            "justify_content": null,
            "_view_module": "@jupyter-widgets/base",
            "overflow": null,
            "_model_module_version": "1.2.0",
            "_view_count": null,
            "flex_flow": null,
            "width": null,
            "min_width": null,
            "border": null,
            "align_items": null,
            "bottom": null,
            "_model_module": "@jupyter-widgets/base",
            "top": null,
            "grid_column": null,
            "overflow_y": null,
            "overflow_x": null,
            "grid_auto_flow": null,
            "grid_area": null,
            "grid_template_columns": null,
            "flex": null,
            "_model_name": "LayoutModel",
            "justify_items": null,
            "grid_row": null,
            "max_height": null,
            "align_content": null,
            "visibility": null,
            "align_self": null,
            "height": null,
            "min_height": null,
            "padding": null,
            "grid_auto_rows": null,
            "grid_gap": null,
            "max_width": null,
            "order": null,
            "_view_module_version": "1.2.0",
            "grid_template_areas": null,
            "object_position": null,
            "object_fit": null,
            "grid_auto_columns": null,
            "margin": null,
            "display": null,
            "left": null
          }
        },
        "500d2cda38224a288da9642c1a432d35": {
          "model_module": "@jupyter-widgets/controls",
          "model_name": "FloatProgressModel",
          "state": {
            "_view_name": "ProgressView",
            "style": "IPY_MODEL_5d5e2a6d5f854548afccb1909325ba6d",
            "_dom_classes": [],
            "description": "",
            "_model_name": "FloatProgressModel",
            "bar_style": "info",
            "max": 1,
            "_view_module": "@jupyter-widgets/controls",
            "_model_module_version": "1.5.0",
            "value": 1,
            "_view_count": null,
            "_view_module_version": "1.5.0",
            "orientation": "horizontal",
            "min": 0,
            "description_tooltip": null,
            "_model_module": "@jupyter-widgets/controls",
            "layout": "IPY_MODEL_26fde7b092db4a00a73eabae096b3004"
          }
        },
        "749fe700480e4af39ebd4a5938e6d55c": {
          "model_module": "@jupyter-widgets/controls",
          "model_name": "HTMLModel",
          "state": {
            "_view_name": "HTMLView",
            "style": "IPY_MODEL_7678806776e34498ad1e208dd01a8288",
            "_dom_classes": [],
            "description": "",
            "_model_name": "HTMLModel",
            "placeholder": "​",
            "_view_module": "@jupyter-widgets/controls",
            "_model_module_version": "1.5.0",
            "value": " 25000/0 [00:13&lt;00:00, 3576.01 examples/s]",
            "_view_count": null,
            "_view_module_version": "1.5.0",
            "description_tooltip": null,
            "_model_module": "@jupyter-widgets/controls",
            "layout": "IPY_MODEL_74dd349235c84234847aa62596e26cca"
          }
        },
        "5d5e2a6d5f854548afccb1909325ba6d": {
          "model_module": "@jupyter-widgets/controls",
          "model_name": "ProgressStyleModel",
          "state": {
            "_view_name": "StyleView",
            "_model_name": "ProgressStyleModel",
            "description_width": "initial",
            "_view_module": "@jupyter-widgets/base",
            "_model_module_version": "1.5.0",
            "_view_count": null,
            "_view_module_version": "1.2.0",
            "bar_color": null,
            "_model_module": "@jupyter-widgets/controls"
          }
        },
        "26fde7b092db4a00a73eabae096b3004": {
          "model_module": "@jupyter-widgets/base",
          "model_name": "LayoutModel",
          "state": {
            "_view_name": "LayoutView",
            "grid_template_rows": null,
            "right": null,
            "justify_content": null,
            "_view_module": "@jupyter-widgets/base",
            "overflow": null,
            "_model_module_version": "1.2.0",
            "_view_count": null,
            "flex_flow": null,
            "width": null,
            "min_width": null,
            "border": null,
            "align_items": null,
            "bottom": null,
            "_model_module": "@jupyter-widgets/base",
            "top": null,
            "grid_column": null,
            "overflow_y": null,
            "overflow_x": null,
            "grid_auto_flow": null,
            "grid_area": null,
            "grid_template_columns": null,
            "flex": null,
            "_model_name": "LayoutModel",
            "justify_items": null,
            "grid_row": null,
            "max_height": null,
            "align_content": null,
            "visibility": null,
            "align_self": null,
            "height": null,
            "min_height": null,
            "padding": null,
            "grid_auto_rows": null,
            "grid_gap": null,
            "max_width": null,
            "order": null,
            "_view_module_version": "1.2.0",
            "grid_template_areas": null,
            "object_position": null,
            "object_fit": null,
            "grid_auto_columns": null,
            "margin": null,
            "display": null,
            "left": null
          }
        },
        "7678806776e34498ad1e208dd01a8288": {
          "model_module": "@jupyter-widgets/controls",
          "model_name": "DescriptionStyleModel",
          "state": {
            "_view_name": "StyleView",
            "_model_name": "DescriptionStyleModel",
            "description_width": "",
            "_view_module": "@jupyter-widgets/base",
            "_model_module_version": "1.5.0",
            "_view_count": null,
            "_view_module_version": "1.2.0",
            "_model_module": "@jupyter-widgets/controls"
          }
        },
        "74dd349235c84234847aa62596e26cca": {
          "model_module": "@jupyter-widgets/base",
          "model_name": "LayoutModel",
          "state": {
            "_view_name": "LayoutView",
            "grid_template_rows": null,
            "right": null,
            "justify_content": null,
            "_view_module": "@jupyter-widgets/base",
            "overflow": null,
            "_model_module_version": "1.2.0",
            "_view_count": null,
            "flex_flow": null,
            "width": null,
            "min_width": null,
            "border": null,
            "align_items": null,
            "bottom": null,
            "_model_module": "@jupyter-widgets/base",
            "top": null,
            "grid_column": null,
            "overflow_y": null,
            "overflow_x": null,
            "grid_auto_flow": null,
            "grid_area": null,
            "grid_template_columns": null,
            "flex": null,
            "_model_name": "LayoutModel",
            "justify_items": null,
            "grid_row": null,
            "max_height": null,
            "align_content": null,
            "visibility": null,
            "align_self": null,
            "height": null,
            "min_height": null,
            "padding": null,
            "grid_auto_rows": null,
            "grid_gap": null,
            "max_width": null,
            "order": null,
            "_view_module_version": "1.2.0",
            "grid_template_areas": null,
            "object_position": null,
            "object_fit": null,
            "grid_auto_columns": null,
            "margin": null,
            "display": null,
            "left": null
          }
        },
        "a9c14c99e2ec40ce855da007368b4761": {
          "model_module": "@jupyter-widgets/controls",
          "model_name": "HBoxModel",
          "state": {
            "_view_name": "HBoxView",
            "_dom_classes": [],
            "_model_name": "HBoxModel",
            "_view_module": "@jupyter-widgets/controls",
            "_model_module_version": "1.5.0",
            "_view_count": null,
            "_view_module_version": "1.5.0",
            "box_style": "",
            "layout": "IPY_MODEL_aeb0730714134c7ab6bb06c5faf4d125",
            "_model_module": "@jupyter-widgets/controls",
            "children": [
              "IPY_MODEL_80ec97baff6c4cb08300f0cd1d062980",
              "IPY_MODEL_d120673e5f3e4574bf1e57cfecc7c757"
            ]
          }
        },
        "aeb0730714134c7ab6bb06c5faf4d125": {
          "model_module": "@jupyter-widgets/base",
          "model_name": "LayoutModel",
          "state": {
            "_view_name": "LayoutView",
            "grid_template_rows": null,
            "right": null,
            "justify_content": null,
            "_view_module": "@jupyter-widgets/base",
            "overflow": null,
            "_model_module_version": "1.2.0",
            "_view_count": null,
            "flex_flow": null,
            "width": null,
            "min_width": null,
            "border": null,
            "align_items": null,
            "bottom": null,
            "_model_module": "@jupyter-widgets/base",
            "top": null,
            "grid_column": null,
            "overflow_y": null,
            "overflow_x": null,
            "grid_auto_flow": null,
            "grid_area": null,
            "grid_template_columns": null,
            "flex": null,
            "_model_name": "LayoutModel",
            "justify_items": null,
            "grid_row": null,
            "max_height": null,
            "align_content": null,
            "visibility": null,
            "align_self": null,
            "height": null,
            "min_height": null,
            "padding": null,
            "grid_auto_rows": null,
            "grid_gap": null,
            "max_width": null,
            "order": null,
            "_view_module_version": "1.2.0",
            "grid_template_areas": null,
            "object_position": null,
            "object_fit": null,
            "grid_auto_columns": null,
            "margin": null,
            "display": null,
            "left": null
          }
        },
        "80ec97baff6c4cb08300f0cd1d062980": {
          "model_module": "@jupyter-widgets/controls",
          "model_name": "FloatProgressModel",
          "state": {
            "_view_name": "ProgressView",
            "style": "IPY_MODEL_88823d33ce8d46e5b30fb504fb210652",
            "_dom_classes": [],
            "description": " 38%",
            "_model_name": "FloatProgressModel",
            "bar_style": "danger",
            "max": 25000,
            "_view_module": "@jupyter-widgets/controls",
            "_model_module_version": "1.5.0",
            "value": 9471,
            "_view_count": null,
            "_view_module_version": "1.5.0",
            "orientation": "horizontal",
            "min": 0,
            "description_tooltip": null,
            "_model_module": "@jupyter-widgets/controls",
            "layout": "IPY_MODEL_2c63d7cc61e74fce9378fcff45a4c9e1"
          }
        },
        "d120673e5f3e4574bf1e57cfecc7c757": {
          "model_module": "@jupyter-widgets/controls",
          "model_name": "HTMLModel",
          "state": {
            "_view_name": "HTMLView",
            "style": "IPY_MODEL_e872733df4854915aff8feb4c4971e61",
            "_dom_classes": [],
            "description": "",
            "_model_name": "HTMLModel",
            "placeholder": "​",
            "_view_module": "@jupyter-widgets/controls",
            "_model_module_version": "1.5.0",
            "value": " 9471/25000 [00:00&lt;00:00, 94709.19 examples/s]",
            "_view_count": null,
            "_view_module_version": "1.5.0",
            "description_tooltip": null,
            "_model_module": "@jupyter-widgets/controls",
            "layout": "IPY_MODEL_79ef8c3edb7a4e56a748d9653c769f8c"
          }
        },
        "88823d33ce8d46e5b30fb504fb210652": {
          "model_module": "@jupyter-widgets/controls",
          "model_name": "ProgressStyleModel",
          "state": {
            "_view_name": "StyleView",
            "_model_name": "ProgressStyleModel",
            "description_width": "initial",
            "_view_module": "@jupyter-widgets/base",
            "_model_module_version": "1.5.0",
            "_view_count": null,
            "_view_module_version": "1.2.0",
            "bar_color": null,
            "_model_module": "@jupyter-widgets/controls"
          }
        },
        "2c63d7cc61e74fce9378fcff45a4c9e1": {
          "model_module": "@jupyter-widgets/base",
          "model_name": "LayoutModel",
          "state": {
            "_view_name": "LayoutView",
            "grid_template_rows": null,
            "right": null,
            "justify_content": null,
            "_view_module": "@jupyter-widgets/base",
            "overflow": null,
            "_model_module_version": "1.2.0",
            "_view_count": null,
            "flex_flow": null,
            "width": null,
            "min_width": null,
            "border": null,
            "align_items": null,
            "bottom": null,
            "_model_module": "@jupyter-widgets/base",
            "top": null,
            "grid_column": null,
            "overflow_y": null,
            "overflow_x": null,
            "grid_auto_flow": null,
            "grid_area": null,
            "grid_template_columns": null,
            "flex": null,
            "_model_name": "LayoutModel",
            "justify_items": null,
            "grid_row": null,
            "max_height": null,
            "align_content": null,
            "visibility": null,
            "align_self": null,
            "height": null,
            "min_height": null,
            "padding": null,
            "grid_auto_rows": null,
            "grid_gap": null,
            "max_width": null,
            "order": null,
            "_view_module_version": "1.2.0",
            "grid_template_areas": null,
            "object_position": null,
            "object_fit": null,
            "grid_auto_columns": null,
            "margin": null,
            "display": null,
            "left": null
          }
        },
        "e872733df4854915aff8feb4c4971e61": {
          "model_module": "@jupyter-widgets/controls",
          "model_name": "DescriptionStyleModel",
          "state": {
            "_view_name": "StyleView",
            "_model_name": "DescriptionStyleModel",
            "description_width": "",
            "_view_module": "@jupyter-widgets/base",
            "_model_module_version": "1.5.0",
            "_view_count": null,
            "_view_module_version": "1.2.0",
            "_model_module": "@jupyter-widgets/controls"
          }
        },
        "79ef8c3edb7a4e56a748d9653c769f8c": {
          "model_module": "@jupyter-widgets/base",
          "model_name": "LayoutModel",
          "state": {
            "_view_name": "LayoutView",
            "grid_template_rows": null,
            "right": null,
            "justify_content": null,
            "_view_module": "@jupyter-widgets/base",
            "overflow": null,
            "_model_module_version": "1.2.0",
            "_view_count": null,
            "flex_flow": null,
            "width": null,
            "min_width": null,
            "border": null,
            "align_items": null,
            "bottom": null,
            "_model_module": "@jupyter-widgets/base",
            "top": null,
            "grid_column": null,
            "overflow_y": null,
            "overflow_x": null,
            "grid_auto_flow": null,
            "grid_area": null,
            "grid_template_columns": null,
            "flex": null,
            "_model_name": "LayoutModel",
            "justify_items": null,
            "grid_row": null,
            "max_height": null,
            "align_content": null,
            "visibility": null,
            "align_self": null,
            "height": null,
            "min_height": null,
            "padding": null,
            "grid_auto_rows": null,
            "grid_gap": null,
            "max_width": null,
            "order": null,
            "_view_module_version": "1.2.0",
            "grid_template_areas": null,
            "object_position": null,
            "object_fit": null,
            "grid_auto_columns": null,
            "margin": null,
            "display": null,
            "left": null
          }
        },
        "49b57aae34ad4dc5864564010b0b4c58": {
          "model_module": "@jupyter-widgets/controls",
          "model_name": "HBoxModel",
          "state": {
            "_view_name": "HBoxView",
            "_dom_classes": [],
            "_model_name": "HBoxModel",
            "_view_module": "@jupyter-widgets/controls",
            "_model_module_version": "1.5.0",
            "_view_count": null,
            "_view_module_version": "1.5.0",
            "box_style": "",
            "layout": "IPY_MODEL_6cc16946b0e54f678379c60030f8717f",
            "_model_module": "@jupyter-widgets/controls",
            "children": [
              "IPY_MODEL_80044fe7208e46b182c37854a7eeee70",
              "IPY_MODEL_de2750975540470d9d8b33798b8ccb69"
            ]
          }
        },
        "6cc16946b0e54f678379c60030f8717f": {
          "model_module": "@jupyter-widgets/base",
          "model_name": "LayoutModel",
          "state": {
            "_view_name": "LayoutView",
            "grid_template_rows": null,
            "right": null,
            "justify_content": null,
            "_view_module": "@jupyter-widgets/base",
            "overflow": null,
            "_model_module_version": "1.2.0",
            "_view_count": null,
            "flex_flow": null,
            "width": null,
            "min_width": null,
            "border": null,
            "align_items": null,
            "bottom": null,
            "_model_module": "@jupyter-widgets/base",
            "top": null,
            "grid_column": null,
            "overflow_y": null,
            "overflow_x": null,
            "grid_auto_flow": null,
            "grid_area": null,
            "grid_template_columns": null,
            "flex": null,
            "_model_name": "LayoutModel",
            "justify_items": null,
            "grid_row": null,
            "max_height": null,
            "align_content": null,
            "visibility": null,
            "align_self": null,
            "height": null,
            "min_height": null,
            "padding": null,
            "grid_auto_rows": null,
            "grid_gap": null,
            "max_width": null,
            "order": null,
            "_view_module_version": "1.2.0",
            "grid_template_areas": null,
            "object_position": null,
            "object_fit": null,
            "grid_auto_columns": null,
            "margin": null,
            "display": null,
            "left": null
          }
        },
        "80044fe7208e46b182c37854a7eeee70": {
          "model_module": "@jupyter-widgets/controls",
          "model_name": "FloatProgressModel",
          "state": {
            "_view_name": "ProgressView",
            "style": "IPY_MODEL_0ac87c8d37524ed482cccdaaea192620",
            "_dom_classes": [],
            "description": "",
            "_model_name": "FloatProgressModel",
            "bar_style": "info",
            "max": 1,
            "_view_module": "@jupyter-widgets/controls",
            "_model_module_version": "1.5.0",
            "value": 1,
            "_view_count": null,
            "_view_module_version": "1.5.0",
            "orientation": "horizontal",
            "min": 0,
            "description_tooltip": null,
            "_model_module": "@jupyter-widgets/controls",
            "layout": "IPY_MODEL_d0ef132eedcf4013a8898967d9123341"
          }
        },
        "de2750975540470d9d8b33798b8ccb69": {
          "model_module": "@jupyter-widgets/controls",
          "model_name": "HTMLModel",
          "state": {
            "_view_name": "HTMLView",
            "style": "IPY_MODEL_9ca65fbdff4645759e6723bb93a32eff",
            "_dom_classes": [],
            "description": "",
            "_model_name": "HTMLModel",
            "placeholder": "​",
            "_view_module": "@jupyter-widgets/controls",
            "_model_module_version": "1.5.0",
            "value": " 25000/0 [00:13&lt;00:00, 3638.35 examples/s]",
            "_view_count": null,
            "_view_module_version": "1.5.0",
            "description_tooltip": null,
            "_model_module": "@jupyter-widgets/controls",
            "layout": "IPY_MODEL_fd5f39a12c374b66888e4cf946c0e9df"
          }
        },
        "0ac87c8d37524ed482cccdaaea192620": {
          "model_module": "@jupyter-widgets/controls",
          "model_name": "ProgressStyleModel",
          "state": {
            "_view_name": "StyleView",
            "_model_name": "ProgressStyleModel",
            "description_width": "initial",
            "_view_module": "@jupyter-widgets/base",
            "_model_module_version": "1.5.0",
            "_view_count": null,
            "_view_module_version": "1.2.0",
            "bar_color": null,
            "_model_module": "@jupyter-widgets/controls"
          }
        },
        "d0ef132eedcf4013a8898967d9123341": {
          "model_module": "@jupyter-widgets/base",
          "model_name": "LayoutModel",
          "state": {
            "_view_name": "LayoutView",
            "grid_template_rows": null,
            "right": null,
            "justify_content": null,
            "_view_module": "@jupyter-widgets/base",
            "overflow": null,
            "_model_module_version": "1.2.0",
            "_view_count": null,
            "flex_flow": null,
            "width": null,
            "min_width": null,
            "border": null,
            "align_items": null,
            "bottom": null,
            "_model_module": "@jupyter-widgets/base",
            "top": null,
            "grid_column": null,
            "overflow_y": null,
            "overflow_x": null,
            "grid_auto_flow": null,
            "grid_area": null,
            "grid_template_columns": null,
            "flex": null,
            "_model_name": "LayoutModel",
            "justify_items": null,
            "grid_row": null,
            "max_height": null,
            "align_content": null,
            "visibility": null,
            "align_self": null,
            "height": null,
            "min_height": null,
            "padding": null,
            "grid_auto_rows": null,
            "grid_gap": null,
            "max_width": null,
            "order": null,
            "_view_module_version": "1.2.0",
            "grid_template_areas": null,
            "object_position": null,
            "object_fit": null,
            "grid_auto_columns": null,
            "margin": null,
            "display": null,
            "left": null
          }
        },
        "9ca65fbdff4645759e6723bb93a32eff": {
          "model_module": "@jupyter-widgets/controls",
          "model_name": "DescriptionStyleModel",
          "state": {
            "_view_name": "StyleView",
            "_model_name": "DescriptionStyleModel",
            "description_width": "",
            "_view_module": "@jupyter-widgets/base",
            "_model_module_version": "1.5.0",
            "_view_count": null,
            "_view_module_version": "1.2.0",
            "_model_module": "@jupyter-widgets/controls"
          }
        },
        "fd5f39a12c374b66888e4cf946c0e9df": {
          "model_module": "@jupyter-widgets/base",
          "model_name": "LayoutModel",
          "state": {
            "_view_name": "LayoutView",
            "grid_template_rows": null,
            "right": null,
            "justify_content": null,
            "_view_module": "@jupyter-widgets/base",
            "overflow": null,
            "_model_module_version": "1.2.0",
            "_view_count": null,
            "flex_flow": null,
            "width": null,
            "min_width": null,
            "border": null,
            "align_items": null,
            "bottom": null,
            "_model_module": "@jupyter-widgets/base",
            "top": null,
            "grid_column": null,
            "overflow_y": null,
            "overflow_x": null,
            "grid_auto_flow": null,
            "grid_area": null,
            "grid_template_columns": null,
            "flex": null,
            "_model_name": "LayoutModel",
            "justify_items": null,
            "grid_row": null,
            "max_height": null,
            "align_content": null,
            "visibility": null,
            "align_self": null,
            "height": null,
            "min_height": null,
            "padding": null,
            "grid_auto_rows": null,
            "grid_gap": null,
            "max_width": null,
            "order": null,
            "_view_module_version": "1.2.0",
            "grid_template_areas": null,
            "object_position": null,
            "object_fit": null,
            "grid_auto_columns": null,
            "margin": null,
            "display": null,
            "left": null
          }
        },
        "b13137552464428cb201caa34f08e7b0": {
          "model_module": "@jupyter-widgets/controls",
          "model_name": "HBoxModel",
          "state": {
            "_view_name": "HBoxView",
            "_dom_classes": [],
            "_model_name": "HBoxModel",
            "_view_module": "@jupyter-widgets/controls",
            "_model_module_version": "1.5.0",
            "_view_count": null,
            "_view_module_version": "1.5.0",
            "box_style": "",
            "layout": "IPY_MODEL_01a70cd671384559bbeeef4e198c4416",
            "_model_module": "@jupyter-widgets/controls",
            "children": [
              "IPY_MODEL_8052c98ae4b4484a8c976e91f41dd980",
              "IPY_MODEL_40b201e5cfce43b3b0953b871484979d"
            ]
          }
        },
        "01a70cd671384559bbeeef4e198c4416": {
          "model_module": "@jupyter-widgets/base",
          "model_name": "LayoutModel",
          "state": {
            "_view_name": "LayoutView",
            "grid_template_rows": null,
            "right": null,
            "justify_content": null,
            "_view_module": "@jupyter-widgets/base",
            "overflow": null,
            "_model_module_version": "1.2.0",
            "_view_count": null,
            "flex_flow": null,
            "width": null,
            "min_width": null,
            "border": null,
            "align_items": null,
            "bottom": null,
            "_model_module": "@jupyter-widgets/base",
            "top": null,
            "grid_column": null,
            "overflow_y": null,
            "overflow_x": null,
            "grid_auto_flow": null,
            "grid_area": null,
            "grid_template_columns": null,
            "flex": null,
            "_model_name": "LayoutModel",
            "justify_items": null,
            "grid_row": null,
            "max_height": null,
            "align_content": null,
            "visibility": null,
            "align_self": null,
            "height": null,
            "min_height": null,
            "padding": null,
            "grid_auto_rows": null,
            "grid_gap": null,
            "max_width": null,
            "order": null,
            "_view_module_version": "1.2.0",
            "grid_template_areas": null,
            "object_position": null,
            "object_fit": null,
            "grid_auto_columns": null,
            "margin": null,
            "display": null,
            "left": null
          }
        },
        "8052c98ae4b4484a8c976e91f41dd980": {
          "model_module": "@jupyter-widgets/controls",
          "model_name": "FloatProgressModel",
          "state": {
            "_view_name": "ProgressView",
            "style": "IPY_MODEL_1c37cfedfed34ea890bff54c36ee59f1",
            "_dom_classes": [],
            "description": " 47%",
            "_model_name": "FloatProgressModel",
            "bar_style": "danger",
            "max": 25000,
            "_view_module": "@jupyter-widgets/controls",
            "_model_module_version": "1.5.0",
            "value": 11679,
            "_view_count": null,
            "_view_module_version": "1.5.0",
            "orientation": "horizontal",
            "min": 0,
            "description_tooltip": null,
            "_model_module": "@jupyter-widgets/controls",
            "layout": "IPY_MODEL_e4d71890a22b452bafdafe4c5ae36aa9"
          }
        },
        "40b201e5cfce43b3b0953b871484979d": {
          "model_module": "@jupyter-widgets/controls",
          "model_name": "HTMLModel",
          "state": {
            "_view_name": "HTMLView",
            "style": "IPY_MODEL_b2cb5271a30a4be2b4fe3ce0c0f2c833",
            "_dom_classes": [],
            "description": "",
            "_model_name": "HTMLModel",
            "placeholder": "​",
            "_view_module": "@jupyter-widgets/controls",
            "_model_module_version": "1.5.0",
            "value": " 11679/25000 [00:00&lt;00:00, 116789.00 examples/s]",
            "_view_count": null,
            "_view_module_version": "1.5.0",
            "description_tooltip": null,
            "_model_module": "@jupyter-widgets/controls",
            "layout": "IPY_MODEL_aa38bd0726644607aa495f46d548d0ab"
          }
        },
        "1c37cfedfed34ea890bff54c36ee59f1": {
          "model_module": "@jupyter-widgets/controls",
          "model_name": "ProgressStyleModel",
          "state": {
            "_view_name": "StyleView",
            "_model_name": "ProgressStyleModel",
            "description_width": "initial",
            "_view_module": "@jupyter-widgets/base",
            "_model_module_version": "1.5.0",
            "_view_count": null,
            "_view_module_version": "1.2.0",
            "bar_color": null,
            "_model_module": "@jupyter-widgets/controls"
          }
        },
        "e4d71890a22b452bafdafe4c5ae36aa9": {
          "model_module": "@jupyter-widgets/base",
          "model_name": "LayoutModel",
          "state": {
            "_view_name": "LayoutView",
            "grid_template_rows": null,
            "right": null,
            "justify_content": null,
            "_view_module": "@jupyter-widgets/base",
            "overflow": null,
            "_model_module_version": "1.2.0",
            "_view_count": null,
            "flex_flow": null,
            "width": null,
            "min_width": null,
            "border": null,
            "align_items": null,
            "bottom": null,
            "_model_module": "@jupyter-widgets/base",
            "top": null,
            "grid_column": null,
            "overflow_y": null,
            "overflow_x": null,
            "grid_auto_flow": null,
            "grid_area": null,
            "grid_template_columns": null,
            "flex": null,
            "_model_name": "LayoutModel",
            "justify_items": null,
            "grid_row": null,
            "max_height": null,
            "align_content": null,
            "visibility": null,
            "align_self": null,
            "height": null,
            "min_height": null,
            "padding": null,
            "grid_auto_rows": null,
            "grid_gap": null,
            "max_width": null,
            "order": null,
            "_view_module_version": "1.2.0",
            "grid_template_areas": null,
            "object_position": null,
            "object_fit": null,
            "grid_auto_columns": null,
            "margin": null,
            "display": null,
            "left": null
          }
        },
        "b2cb5271a30a4be2b4fe3ce0c0f2c833": {
          "model_module": "@jupyter-widgets/controls",
          "model_name": "DescriptionStyleModel",
          "state": {
            "_view_name": "StyleView",
            "_model_name": "DescriptionStyleModel",
            "description_width": "",
            "_view_module": "@jupyter-widgets/base",
            "_model_module_version": "1.5.0",
            "_view_count": null,
            "_view_module_version": "1.2.0",
            "_model_module": "@jupyter-widgets/controls"
          }
        },
        "aa38bd0726644607aa495f46d548d0ab": {
          "model_module": "@jupyter-widgets/base",
          "model_name": "LayoutModel",
          "state": {
            "_view_name": "LayoutView",
            "grid_template_rows": null,
            "right": null,
            "justify_content": null,
            "_view_module": "@jupyter-widgets/base",
            "overflow": null,
            "_model_module_version": "1.2.0",
            "_view_count": null,
            "flex_flow": null,
            "width": null,
            "min_width": null,
            "border": null,
            "align_items": null,
            "bottom": null,
            "_model_module": "@jupyter-widgets/base",
            "top": null,
            "grid_column": null,
            "overflow_y": null,
            "overflow_x": null,
            "grid_auto_flow": null,
            "grid_area": null,
            "grid_template_columns": null,
            "flex": null,
            "_model_name": "LayoutModel",
            "justify_items": null,
            "grid_row": null,
            "max_height": null,
            "align_content": null,
            "visibility": null,
            "align_self": null,
            "height": null,
            "min_height": null,
            "padding": null,
            "grid_auto_rows": null,
            "grid_gap": null,
            "max_width": null,
            "order": null,
            "_view_module_version": "1.2.0",
            "grid_template_areas": null,
            "object_position": null,
            "object_fit": null,
            "grid_auto_columns": null,
            "margin": null,
            "display": null,
            "left": null
          }
        },
        "8b566e10731b428db30a8090e918cd35": {
          "model_module": "@jupyter-widgets/controls",
          "model_name": "HBoxModel",
          "state": {
            "_view_name": "HBoxView",
            "_dom_classes": [],
            "_model_name": "HBoxModel",
            "_view_module": "@jupyter-widgets/controls",
            "_model_module_version": "1.5.0",
            "_view_count": null,
            "_view_module_version": "1.5.0",
            "box_style": "",
            "layout": "IPY_MODEL_b3ad3597b06a48bb81b2f053caff6029",
            "_model_module": "@jupyter-widgets/controls",
            "children": [
              "IPY_MODEL_e9e22c558d7c41ca8a18aa6f8f7abd4c",
              "IPY_MODEL_6ef9a1b49653479fad1d9976e755cd8e"
            ]
          }
        },
        "b3ad3597b06a48bb81b2f053caff6029": {
          "model_module": "@jupyter-widgets/base",
          "model_name": "LayoutModel",
          "state": {
            "_view_name": "LayoutView",
            "grid_template_rows": null,
            "right": null,
            "justify_content": null,
            "_view_module": "@jupyter-widgets/base",
            "overflow": null,
            "_model_module_version": "1.2.0",
            "_view_count": null,
            "flex_flow": null,
            "width": null,
            "min_width": null,
            "border": null,
            "align_items": null,
            "bottom": null,
            "_model_module": "@jupyter-widgets/base",
            "top": null,
            "grid_column": null,
            "overflow_y": null,
            "overflow_x": null,
            "grid_auto_flow": null,
            "grid_area": null,
            "grid_template_columns": null,
            "flex": null,
            "_model_name": "LayoutModel",
            "justify_items": null,
            "grid_row": null,
            "max_height": null,
            "align_content": null,
            "visibility": null,
            "align_self": null,
            "height": null,
            "min_height": null,
            "padding": null,
            "grid_auto_rows": null,
            "grid_gap": null,
            "max_width": null,
            "order": null,
            "_view_module_version": "1.2.0",
            "grid_template_areas": null,
            "object_position": null,
            "object_fit": null,
            "grid_auto_columns": null,
            "margin": null,
            "display": null,
            "left": null
          }
        },
        "e9e22c558d7c41ca8a18aa6f8f7abd4c": {
          "model_module": "@jupyter-widgets/controls",
          "model_name": "FloatProgressModel",
          "state": {
            "_view_name": "ProgressView",
            "style": "IPY_MODEL_941356817f6044fe8ecb2ceec9cd73cf",
            "_dom_classes": [],
            "description": "",
            "_model_name": "FloatProgressModel",
            "bar_style": "info",
            "max": 1,
            "_view_module": "@jupyter-widgets/controls",
            "_model_module_version": "1.5.0",
            "value": 1,
            "_view_count": null,
            "_view_module_version": "1.5.0",
            "orientation": "horizontal",
            "min": 0,
            "description_tooltip": null,
            "_model_module": "@jupyter-widgets/controls",
            "layout": "IPY_MODEL_dd0ea0e046b14d8ba4797f22804a82db"
          }
        },
        "6ef9a1b49653479fad1d9976e755cd8e": {
          "model_module": "@jupyter-widgets/controls",
          "model_name": "HTMLModel",
          "state": {
            "_view_name": "HTMLView",
            "style": "IPY_MODEL_3b8674b3326440a8bec37951ce0e5374",
            "_dom_classes": [],
            "description": "",
            "_model_name": "HTMLModel",
            "placeholder": "​",
            "_view_module": "@jupyter-widgets/controls",
            "_model_module_version": "1.5.0",
            "value": " 50000/0 [00:18&lt;00:00, 3692.15 examples/s]",
            "_view_count": null,
            "_view_module_version": "1.5.0",
            "description_tooltip": null,
            "_model_module": "@jupyter-widgets/controls",
            "layout": "IPY_MODEL_ec109eb77a0341d1865f9bc1e2c4c7bf"
          }
        },
        "941356817f6044fe8ecb2ceec9cd73cf": {
          "model_module": "@jupyter-widgets/controls",
          "model_name": "ProgressStyleModel",
          "state": {
            "_view_name": "StyleView",
            "_model_name": "ProgressStyleModel",
            "description_width": "initial",
            "_view_module": "@jupyter-widgets/base",
            "_model_module_version": "1.5.0",
            "_view_count": null,
            "_view_module_version": "1.2.0",
            "bar_color": null,
            "_model_module": "@jupyter-widgets/controls"
          }
        },
        "dd0ea0e046b14d8ba4797f22804a82db": {
          "model_module": "@jupyter-widgets/base",
          "model_name": "LayoutModel",
          "state": {
            "_view_name": "LayoutView",
            "grid_template_rows": null,
            "right": null,
            "justify_content": null,
            "_view_module": "@jupyter-widgets/base",
            "overflow": null,
            "_model_module_version": "1.2.0",
            "_view_count": null,
            "flex_flow": null,
            "width": null,
            "min_width": null,
            "border": null,
            "align_items": null,
            "bottom": null,
            "_model_module": "@jupyter-widgets/base",
            "top": null,
            "grid_column": null,
            "overflow_y": null,
            "overflow_x": null,
            "grid_auto_flow": null,
            "grid_area": null,
            "grid_template_columns": null,
            "flex": null,
            "_model_name": "LayoutModel",
            "justify_items": null,
            "grid_row": null,
            "max_height": null,
            "align_content": null,
            "visibility": null,
            "align_self": null,
            "height": null,
            "min_height": null,
            "padding": null,
            "grid_auto_rows": null,
            "grid_gap": null,
            "max_width": null,
            "order": null,
            "_view_module_version": "1.2.0",
            "grid_template_areas": null,
            "object_position": null,
            "object_fit": null,
            "grid_auto_columns": null,
            "margin": null,
            "display": null,
            "left": null
          }
        },
        "3b8674b3326440a8bec37951ce0e5374": {
          "model_module": "@jupyter-widgets/controls",
          "model_name": "DescriptionStyleModel",
          "state": {
            "_view_name": "StyleView",
            "_model_name": "DescriptionStyleModel",
            "description_width": "",
            "_view_module": "@jupyter-widgets/base",
            "_model_module_version": "1.5.0",
            "_view_count": null,
            "_view_module_version": "1.2.0",
            "_model_module": "@jupyter-widgets/controls"
          }
        },
        "ec109eb77a0341d1865f9bc1e2c4c7bf": {
          "model_module": "@jupyter-widgets/base",
          "model_name": "LayoutModel",
          "state": {
            "_view_name": "LayoutView",
            "grid_template_rows": null,
            "right": null,
            "justify_content": null,
            "_view_module": "@jupyter-widgets/base",
            "overflow": null,
            "_model_module_version": "1.2.0",
            "_view_count": null,
            "flex_flow": null,
            "width": null,
            "min_width": null,
            "border": null,
            "align_items": null,
            "bottom": null,
            "_model_module": "@jupyter-widgets/base",
            "top": null,
            "grid_column": null,
            "overflow_y": null,
            "overflow_x": null,
            "grid_auto_flow": null,
            "grid_area": null,
            "grid_template_columns": null,
            "flex": null,
            "_model_name": "LayoutModel",
            "justify_items": null,
            "grid_row": null,
            "max_height": null,
            "align_content": null,
            "visibility": null,
            "align_self": null,
            "height": null,
            "min_height": null,
            "padding": null,
            "grid_auto_rows": null,
            "grid_gap": null,
            "max_width": null,
            "order": null,
            "_view_module_version": "1.2.0",
            "grid_template_areas": null,
            "object_position": null,
            "object_fit": null,
            "grid_auto_columns": null,
            "margin": null,
            "display": null,
            "left": null
          }
        },
        "0c49882d4bba48ab84923a1502a0bfe2": {
          "model_module": "@jupyter-widgets/controls",
          "model_name": "HBoxModel",
          "state": {
            "_view_name": "HBoxView",
            "_dom_classes": [],
            "_model_name": "HBoxModel",
            "_view_module": "@jupyter-widgets/controls",
            "_model_module_version": "1.5.0",
            "_view_count": null,
            "_view_module_version": "1.5.0",
            "box_style": "",
            "layout": "IPY_MODEL_bb7bf744bef14e1e85aa1d27b8acb7c3",
            "_model_module": "@jupyter-widgets/controls",
            "children": [
              "IPY_MODEL_9b911a783af049a48549d14aa2dc119a",
              "IPY_MODEL_d6c40b99a3994a21b21edf174b8bf47f"
            ]
          }
        },
        "bb7bf744bef14e1e85aa1d27b8acb7c3": {
          "model_module": "@jupyter-widgets/base",
          "model_name": "LayoutModel",
          "state": {
            "_view_name": "LayoutView",
            "grid_template_rows": null,
            "right": null,
            "justify_content": null,
            "_view_module": "@jupyter-widgets/base",
            "overflow": null,
            "_model_module_version": "1.2.0",
            "_view_count": null,
            "flex_flow": null,
            "width": null,
            "min_width": null,
            "border": null,
            "align_items": null,
            "bottom": null,
            "_model_module": "@jupyter-widgets/base",
            "top": null,
            "grid_column": null,
            "overflow_y": null,
            "overflow_x": null,
            "grid_auto_flow": null,
            "grid_area": null,
            "grid_template_columns": null,
            "flex": null,
            "_model_name": "LayoutModel",
            "justify_items": null,
            "grid_row": null,
            "max_height": null,
            "align_content": null,
            "visibility": null,
            "align_self": null,
            "height": null,
            "min_height": null,
            "padding": null,
            "grid_auto_rows": null,
            "grid_gap": null,
            "max_width": null,
            "order": null,
            "_view_module_version": "1.2.0",
            "grid_template_areas": null,
            "object_position": null,
            "object_fit": null,
            "grid_auto_columns": null,
            "margin": null,
            "display": null,
            "left": null
          }
        },
        "9b911a783af049a48549d14aa2dc119a": {
          "model_module": "@jupyter-widgets/controls",
          "model_name": "FloatProgressModel",
          "state": {
            "_view_name": "ProgressView",
            "style": "IPY_MODEL_50289b5b42434fdfabe28262c682c5f8",
            "_dom_classes": [],
            "description": " 53%",
            "_model_name": "FloatProgressModel",
            "bar_style": "danger",
            "max": 50000,
            "_view_module": "@jupyter-widgets/controls",
            "_model_module_version": "1.5.0",
            "value": 26656,
            "_view_count": null,
            "_view_module_version": "1.5.0",
            "orientation": "horizontal",
            "min": 0,
            "description_tooltip": null,
            "_model_module": "@jupyter-widgets/controls",
            "layout": "IPY_MODEL_658ea7abe40345c989923904aad885d4"
          }
        },
        "d6c40b99a3994a21b21edf174b8bf47f": {
          "model_module": "@jupyter-widgets/controls",
          "model_name": "HTMLModel",
          "state": {
            "_view_name": "HTMLView",
            "style": "IPY_MODEL_fa1a1cf3516a47deaa9f33bf2fe265d1",
            "_dom_classes": [],
            "description": "",
            "_model_name": "HTMLModel",
            "placeholder": "​",
            "_view_module": "@jupyter-widgets/controls",
            "_model_module_version": "1.5.0",
            "value": " 26656/50000 [00:00&lt;00:00, 51459.17 examples/s]",
            "_view_count": null,
            "_view_module_version": "1.5.0",
            "description_tooltip": null,
            "_model_module": "@jupyter-widgets/controls",
            "layout": "IPY_MODEL_a865869baa88452b85fe3cf60351fb84"
          }
        },
        "50289b5b42434fdfabe28262c682c5f8": {
          "model_module": "@jupyter-widgets/controls",
          "model_name": "ProgressStyleModel",
          "state": {
            "_view_name": "StyleView",
            "_model_name": "ProgressStyleModel",
            "description_width": "initial",
            "_view_module": "@jupyter-widgets/base",
            "_model_module_version": "1.5.0",
            "_view_count": null,
            "_view_module_version": "1.2.0",
            "bar_color": null,
            "_model_module": "@jupyter-widgets/controls"
          }
        },
        "658ea7abe40345c989923904aad885d4": {
          "model_module": "@jupyter-widgets/base",
          "model_name": "LayoutModel",
          "state": {
            "_view_name": "LayoutView",
            "grid_template_rows": null,
            "right": null,
            "justify_content": null,
            "_view_module": "@jupyter-widgets/base",
            "overflow": null,
            "_model_module_version": "1.2.0",
            "_view_count": null,
            "flex_flow": null,
            "width": null,
            "min_width": null,
            "border": null,
            "align_items": null,
            "bottom": null,
            "_model_module": "@jupyter-widgets/base",
            "top": null,
            "grid_column": null,
            "overflow_y": null,
            "overflow_x": null,
            "grid_auto_flow": null,
            "grid_area": null,
            "grid_template_columns": null,
            "flex": null,
            "_model_name": "LayoutModel",
            "justify_items": null,
            "grid_row": null,
            "max_height": null,
            "align_content": null,
            "visibility": null,
            "align_self": null,
            "height": null,
            "min_height": null,
            "padding": null,
            "grid_auto_rows": null,
            "grid_gap": null,
            "max_width": null,
            "order": null,
            "_view_module_version": "1.2.0",
            "grid_template_areas": null,
            "object_position": null,
            "object_fit": null,
            "grid_auto_columns": null,
            "margin": null,
            "display": null,
            "left": null
          }
        },
        "fa1a1cf3516a47deaa9f33bf2fe265d1": {
          "model_module": "@jupyter-widgets/controls",
          "model_name": "DescriptionStyleModel",
          "state": {
            "_view_name": "StyleView",
            "_model_name": "DescriptionStyleModel",
            "description_width": "",
            "_view_module": "@jupyter-widgets/base",
            "_model_module_version": "1.5.0",
            "_view_count": null,
            "_view_module_version": "1.2.0",
            "_model_module": "@jupyter-widgets/controls"
          }
        },
        "a865869baa88452b85fe3cf60351fb84": {
          "model_module": "@jupyter-widgets/base",
          "model_name": "LayoutModel",
          "state": {
            "_view_name": "LayoutView",
            "grid_template_rows": null,
            "right": null,
            "justify_content": null,
            "_view_module": "@jupyter-widgets/base",
            "overflow": null,
            "_model_module_version": "1.2.0",
            "_view_count": null,
            "flex_flow": null,
            "width": null,
            "min_width": null,
            "border": null,
            "align_items": null,
            "bottom": null,
            "_model_module": "@jupyter-widgets/base",
            "top": null,
            "grid_column": null,
            "overflow_y": null,
            "overflow_x": null,
            "grid_auto_flow": null,
            "grid_area": null,
            "grid_template_columns": null,
            "flex": null,
            "_model_name": "LayoutModel",
            "justify_items": null,
            "grid_row": null,
            "max_height": null,
            "align_content": null,
            "visibility": null,
            "align_self": null,
            "height": null,
            "min_height": null,
            "padding": null,
            "grid_auto_rows": null,
            "grid_gap": null,
            "max_width": null,
            "order": null,
            "_view_module_version": "1.2.0",
            "grid_template_areas": null,
            "object_position": null,
            "object_fit": null,
            "grid_auto_columns": null,
            "margin": null,
            "display": null,
            "left": null
          }
        }
      }
    }
  },
  "cells": [
    {
      "cell_type": "code",
      "metadata": {
        "id": "zX4Kg8DUTKWO"
      },
      "source": [
        "#@title Licensed under the Apache License, Version 2.0 (the \"License\");\n",
        "# you may not use this file except in compliance with the License.\n",
        "# You may obtain a copy of the License at\n",
        "#\n",
        "# https://www.apache.org/licenses/LICENSE-2.0\n",
        "#\n",
        "# Unless required by applicable law or agreed to in writing, software\n",
        "# distributed under the License is distributed on an \"AS IS\" BASIS,\n",
        "# WITHOUT WARRANTIES OR CONDITIONS OF ANY KIND, either express or implied.\n",
        "# See the License for the specific language governing permissions and\n",
        "# limitations under the License."
      ],
      "execution_count": null,
      "outputs": []
    },
    {
      "cell_type": "code",
      "metadata": {
        "colab": {
          "base_uri": "https://localhost:8080/"
        },
        "id": "P-AhVYeBWgQ3",
        "outputId": "a675643d-b8f4-43ac-988e-b3293577832e"
      },
      "source": [
        "import tensorflow as tf\n",
        "print(tf.__version__)\n",
        "\n",
        "# !pip install -q tensorflow-datasets"
      ],
      "execution_count": 1,
      "outputs": [
        {
          "output_type": "stream",
          "text": [
            "2.4.1\n"
          ],
          "name": "stdout"
        }
      ]
    },
    {
      "cell_type": "code",
      "metadata": {
        "colab": {
          "base_uri": "https://localhost:8080/",
          "height": 347,
          "referenced_widgets": [
            "283e672936c4485b81416681d24e6343",
            "578dff65969a4bd897968cc6c24c0adc",
            "0e14a1f75a5e40f0b06ba00aa356d4a8",
            "3122e687a2f44a5a8d889f34119f43f8",
            "2e30154cd7284f4388d0f4572642a2c7",
            "5f7cfb0bb2934b158aecb2e55d7785ef",
            "740318456bc74ddcb7e385b93164cb1a",
            "acabd9ab5bd041d7ac4399f818a14f2f",
            "5c11364068434227a650468781e5899c",
            "f2505ff1377d4241b7d109c715abe1bf",
            "4539a421c677435a8e57f711cbe2d4bb",
            "eba83208d7184f26a7dc4865ecc0b806",
            "b1eff8987fcb4894840955469a5cb264",
            "fe0f4da4135641a4b35373e7908e3fca",
            "d65a997d3304487b95e73a3e342ce78d",
            "f2abc97aa9db409db99e0ccdf7a43812",
            "49576914a04746738d0d30897bc70f0a",
            "90a0f9c6fec04d7090821dff9422d879",
            "500d2cda38224a288da9642c1a432d35",
            "749fe700480e4af39ebd4a5938e6d55c",
            "5d5e2a6d5f854548afccb1909325ba6d",
            "26fde7b092db4a00a73eabae096b3004",
            "7678806776e34498ad1e208dd01a8288",
            "74dd349235c84234847aa62596e26cca",
            "a9c14c99e2ec40ce855da007368b4761",
            "aeb0730714134c7ab6bb06c5faf4d125",
            "80ec97baff6c4cb08300f0cd1d062980",
            "d120673e5f3e4574bf1e57cfecc7c757",
            "88823d33ce8d46e5b30fb504fb210652",
            "2c63d7cc61e74fce9378fcff45a4c9e1",
            "e872733df4854915aff8feb4c4971e61",
            "79ef8c3edb7a4e56a748d9653c769f8c",
            "49b57aae34ad4dc5864564010b0b4c58",
            "6cc16946b0e54f678379c60030f8717f",
            "80044fe7208e46b182c37854a7eeee70",
            "de2750975540470d9d8b33798b8ccb69",
            "0ac87c8d37524ed482cccdaaea192620",
            "d0ef132eedcf4013a8898967d9123341",
            "9ca65fbdff4645759e6723bb93a32eff",
            "fd5f39a12c374b66888e4cf946c0e9df",
            "b13137552464428cb201caa34f08e7b0",
            "01a70cd671384559bbeeef4e198c4416",
            "8052c98ae4b4484a8c976e91f41dd980",
            "40b201e5cfce43b3b0953b871484979d",
            "1c37cfedfed34ea890bff54c36ee59f1",
            "e4d71890a22b452bafdafe4c5ae36aa9",
            "b2cb5271a30a4be2b4fe3ce0c0f2c833",
            "aa38bd0726644607aa495f46d548d0ab",
            "8b566e10731b428db30a8090e918cd35",
            "b3ad3597b06a48bb81b2f053caff6029",
            "e9e22c558d7c41ca8a18aa6f8f7abd4c",
            "6ef9a1b49653479fad1d9976e755cd8e",
            "941356817f6044fe8ecb2ceec9cd73cf",
            "dd0ea0e046b14d8ba4797f22804a82db",
            "3b8674b3326440a8bec37951ce0e5374",
            "ec109eb77a0341d1865f9bc1e2c4c7bf",
            "0c49882d4bba48ab84923a1502a0bfe2",
            "bb7bf744bef14e1e85aa1d27b8acb7c3",
            "9b911a783af049a48549d14aa2dc119a",
            "d6c40b99a3994a21b21edf174b8bf47f",
            "50289b5b42434fdfabe28262c682c5f8",
            "658ea7abe40345c989923904aad885d4",
            "fa1a1cf3516a47deaa9f33bf2fe265d1",
            "a865869baa88452b85fe3cf60351fb84"
          ]
        },
        "id": "_IoM4VFxWpMR",
        "outputId": "25d1e008-b029-43e5-dc02-55d34210d9d2"
      },
      "source": [
        "import tensorflow_datasets as tfds\n",
        "imdb, info = tfds.load(\"imdb_reviews\", with_info=True, as_supervised=True)\n"
      ],
      "execution_count": 2,
      "outputs": [
        {
          "output_type": "stream",
          "text": [
            "\u001b[1mDownloading and preparing dataset imdb_reviews/plain_text/1.0.0 (download: 80.23 MiB, generated: Unknown size, total: 80.23 MiB) to /root/tensorflow_datasets/imdb_reviews/plain_text/1.0.0...\u001b[0m\n"
          ],
          "name": "stdout"
        },
        {
          "output_type": "display_data",
          "data": {
            "application/vnd.jupyter.widget-view+json": {
              "model_id": "283e672936c4485b81416681d24e6343",
              "version_minor": 0,
              "version_major": 2
            },
            "text/plain": [
              "HBox(children=(FloatProgress(value=1.0, bar_style='info', description='Dl Completed...', max=1.0, style=Progre…"
            ]
          },
          "metadata": {
            "tags": []
          }
        },
        {
          "output_type": "display_data",
          "data": {
            "application/vnd.jupyter.widget-view+json": {
              "model_id": "5c11364068434227a650468781e5899c",
              "version_minor": 0,
              "version_major": 2
            },
            "text/plain": [
              "HBox(children=(FloatProgress(value=1.0, bar_style='info', description='Dl Size...', max=1.0, style=ProgressSty…"
            ]
          },
          "metadata": {
            "tags": []
          }
        },
        {
          "output_type": "stream",
          "text": [
            "\n",
            "\n",
            "\n",
            "\n"
          ],
          "name": "stdout"
        },
        {
          "output_type": "display_data",
          "data": {
            "application/vnd.jupyter.widget-view+json": {
              "model_id": "49576914a04746738d0d30897bc70f0a",
              "version_minor": 0,
              "version_major": 2
            },
            "text/plain": [
              "HBox(children=(FloatProgress(value=1.0, bar_style='info', max=1.0), HTML(value='')))"
            ]
          },
          "metadata": {
            "tags": []
          }
        },
        {
          "output_type": "stream",
          "text": [
            "\rShuffling and writing examples to /root/tensorflow_datasets/imdb_reviews/plain_text/1.0.0.incompleteW8SQI7/imdb_reviews-train.tfrecord\n"
          ],
          "name": "stdout"
        },
        {
          "output_type": "display_data",
          "data": {
            "application/vnd.jupyter.widget-view+json": {
              "model_id": "a9c14c99e2ec40ce855da007368b4761",
              "version_minor": 0,
              "version_major": 2
            },
            "text/plain": [
              "HBox(children=(FloatProgress(value=0.0, max=25000.0), HTML(value='')))"
            ]
          },
          "metadata": {
            "tags": []
          }
        },
        {
          "output_type": "stream",
          "text": [
            "\r"
          ],
          "name": "stdout"
        },
        {
          "output_type": "display_data",
          "data": {
            "application/vnd.jupyter.widget-view+json": {
              "model_id": "49b57aae34ad4dc5864564010b0b4c58",
              "version_minor": 0,
              "version_major": 2
            },
            "text/plain": [
              "HBox(children=(FloatProgress(value=1.0, bar_style='info', max=1.0), HTML(value='')))"
            ]
          },
          "metadata": {
            "tags": []
          }
        },
        {
          "output_type": "stream",
          "text": [
            "\rShuffling and writing examples to /root/tensorflow_datasets/imdb_reviews/plain_text/1.0.0.incompleteW8SQI7/imdb_reviews-test.tfrecord\n"
          ],
          "name": "stdout"
        },
        {
          "output_type": "display_data",
          "data": {
            "application/vnd.jupyter.widget-view+json": {
              "model_id": "b13137552464428cb201caa34f08e7b0",
              "version_minor": 0,
              "version_major": 2
            },
            "text/plain": [
              "HBox(children=(FloatProgress(value=0.0, max=25000.0), HTML(value='')))"
            ]
          },
          "metadata": {
            "tags": []
          }
        },
        {
          "output_type": "stream",
          "text": [
            "\r"
          ],
          "name": "stdout"
        },
        {
          "output_type": "display_data",
          "data": {
            "application/vnd.jupyter.widget-view+json": {
              "model_id": "8b566e10731b428db30a8090e918cd35",
              "version_minor": 0,
              "version_major": 2
            },
            "text/plain": [
              "HBox(children=(FloatProgress(value=1.0, bar_style='info', max=1.0), HTML(value='')))"
            ]
          },
          "metadata": {
            "tags": []
          }
        },
        {
          "output_type": "stream",
          "text": [
            "\rShuffling and writing examples to /root/tensorflow_datasets/imdb_reviews/plain_text/1.0.0.incompleteW8SQI7/imdb_reviews-unsupervised.tfrecord\n"
          ],
          "name": "stdout"
        },
        {
          "output_type": "display_data",
          "data": {
            "application/vnd.jupyter.widget-view+json": {
              "model_id": "0c49882d4bba48ab84923a1502a0bfe2",
              "version_minor": 0,
              "version_major": 2
            },
            "text/plain": [
              "HBox(children=(FloatProgress(value=0.0, max=50000.0), HTML(value='')))"
            ]
          },
          "metadata": {
            "tags": []
          }
        },
        {
          "output_type": "stream",
          "text": [
            "WARNING:absl:Dataset is using deprecated text encoder API which will be removed soon. Please use the plain_text version of the dataset and migrate to `tensorflow_text`.\n"
          ],
          "name": "stderr"
        },
        {
          "output_type": "stream",
          "text": [
            "\u001b[1mDataset imdb_reviews downloaded and prepared to /root/tensorflow_datasets/imdb_reviews/plain_text/1.0.0. Subsequent calls will reuse this data.\u001b[0m\n",
            "\r"
          ],
          "name": "stdout"
        }
      ]
    },
    {
      "cell_type": "code",
      "metadata": {
        "id": "wHQ2Ko0zl7M4"
      },
      "source": [
        "import numpy as np\n",
        "\n",
        "train_data, test_data = imdb['train'], imdb['test']\n",
        "\n",
        "training_sentences = []\n",
        "training_labels = []\n",
        "\n",
        "testing_sentences = []\n",
        "testing_labels = []\n",
        "\n",
        "# str(s.tonumpy()) is needed in Python3 instead of just s.numpy()\n",
        "for s,l in train_data:\n",
        "  training_sentences.append(str(s.numpy()))\n",
        "  training_labels.append(l.numpy())\n",
        "  \n",
        "for s,l in test_data:\n",
        "  testing_sentences.append(str(s.numpy()))\n",
        "  testing_labels.append(l.numpy())\n",
        "  \n",
        "training_labels_final = np.array(training_labels)\n",
        "testing_labels_final = np.array(testing_labels)\n"
      ],
      "execution_count": 4,
      "outputs": []
    },
    {
      "cell_type": "code",
      "metadata": {
        "id": "7n15yyMdmoH1"
      },
      "source": [
        "vocab_size = 10000\n",
        "embedding_dim = 16\n",
        "max_length = 120\n",
        "trunc_type='post'\n",
        "oov_tok = \"<OOV>\"\n",
        "\n",
        "\n",
        "from tensorflow.keras.preprocessing.text import Tokenizer\n",
        "from tensorflow.keras.preprocessing.sequence import pad_sequences\n",
        "\n",
        "tokenizer = Tokenizer(num_words = vocab_size, oov_token=oov_tok)\n",
        "tokenizer.fit_on_texts(training_sentences)\n",
        "word_index = tokenizer.word_index\n",
        "sequences = tokenizer.texts_to_sequences(training_sentences)\n",
        "padded = pad_sequences(sequences,maxlen=max_length, truncating=trunc_type)\n",
        "\n",
        "testing_sequences = tokenizer.texts_to_sequences(testing_sentences)\n",
        "testing_padded = pad_sequences(testing_sequences,maxlen=max_length)\n"
      ],
      "execution_count": 5,
      "outputs": []
    },
    {
      "cell_type": "code",
      "metadata": {
        "colab": {
          "base_uri": "https://localhost:8080/"
        },
        "id": "9axf0uIXVMhO",
        "outputId": "0ca6e799-60da-4ec8-d12d-2af2c8a629bf"
      },
      "source": [
        "reverse_word_index = dict([(value, key) for (key, value) in word_index.items()])\n",
        "\n",
        "def decode_review(text):\n",
        "    return ' '.join([reverse_word_index.get(i, '?') for i in text])\n",
        "\n",
        "print(decode_review(padded[1]))\n",
        "print(training_sentences[1])"
      ],
      "execution_count": 6,
      "outputs": [
        {
          "output_type": "stream",
          "text": [
            "? ? ? ? ? ? ? b'i have been known to fall asleep during films but this is usually due to a combination of things including really tired being warm and comfortable on the <OOV> and having just eaten a lot however on this occasion i fell asleep because the film was rubbish the plot development was constant constantly slow and boring things seemed to happen but with no explanation of what was causing them or why i admit i may have missed part of the film but i watched the majority of it and everything just seemed to happen of its own <OOV> without any real concern for anything else i cant recommend this film at all '\n",
            "b'I have been known to fall asleep during films, but this is usually due to a combination of things including, really tired, being warm and comfortable on the sette and having just eaten a lot. However on this occasion I fell asleep because the film was rubbish. The plot development was constant. Constantly slow and boring. Things seemed to happen, but with no explanation of what was causing them or why. I admit, I may have missed part of the film, but i watched the majority of it and everything just seemed to happen of its own accord without any real concern for anything else. I cant recommend this film at all.'\n"
          ],
          "name": "stdout"
        }
      ]
    },
    {
      "cell_type": "code",
      "metadata": {
        "colab": {
          "base_uri": "https://localhost:8080/"
        },
        "id": "5NEpdhb8AxID",
        "outputId": "48c89358-7909-4b6f-8fba-159c1df4ed5f"
      },
      "source": [
        "model = tf.keras.Sequential([\n",
        "    tf.keras.layers.Embedding(vocab_size, embedding_dim, input_length=max_length),\n",
        "    tf.keras.layers.Bidirectional(tf.keras.layers.GRU(32)),\n",
        "    tf.keras.layers.Dense(6, activation='relu'),\n",
        "    tf.keras.layers.Dense(1, activation='sigmoid')\n",
        "])\n",
        "model.compile(loss='binary_crossentropy',optimizer='adam',metrics=['accuracy'])\n",
        "model.summary()\n"
      ],
      "execution_count": 7,
      "outputs": [
        {
          "output_type": "stream",
          "text": [
            "Model: \"sequential\"\n",
            "_________________________________________________________________\n",
            "Layer (type)                 Output Shape              Param #   \n",
            "=================================================================\n",
            "embedding (Embedding)        (None, 120, 16)           160000    \n",
            "_________________________________________________________________\n",
            "bidirectional (Bidirectional (None, 64)                9600      \n",
            "_________________________________________________________________\n",
            "dense (Dense)                (None, 6)                 390       \n",
            "_________________________________________________________________\n",
            "dense_1 (Dense)              (None, 1)                 7         \n",
            "=================================================================\n",
            "Total params: 169,997\n",
            "Trainable params: 169,997\n",
            "Non-trainable params: 0\n",
            "_________________________________________________________________\n"
          ],
          "name": "stdout"
        }
      ]
    },
    {
      "cell_type": "code",
      "metadata": {
        "colab": {
          "base_uri": "https://localhost:8080/"
        },
        "id": "V5LLrXC-uNX6",
        "outputId": "178cce06-31e4-4588-8115-fa92a84db3db"
      },
      "source": [
        "num_epochs = 50\n",
        "history = model.fit(padded, training_labels_final, epochs=num_epochs, validation_data=(testing_padded, testing_labels_final))"
      ],
      "execution_count": 8,
      "outputs": [
        {
          "output_type": "stream",
          "text": [
            "Epoch 1/50\n",
            "782/782 [==============================] - 49s 19ms/step - loss: 0.6178 - accuracy: 0.6161 - val_loss: 0.3680 - val_accuracy: 0.8420\n",
            "Epoch 2/50\n",
            "782/782 [==============================] - 14s 18ms/step - loss: 0.3003 - accuracy: 0.8796 - val_loss: 0.3635 - val_accuracy: 0.8432\n",
            "Epoch 3/50\n",
            "782/782 [==============================] - 14s 18ms/step - loss: 0.2229 - accuracy: 0.9144 - val_loss: 0.3786 - val_accuracy: 0.8396\n",
            "Epoch 4/50\n",
            "782/782 [==============================] - 14s 18ms/step - loss: 0.1700 - accuracy: 0.9388 - val_loss: 0.4093 - val_accuracy: 0.8339\n",
            "Epoch 5/50\n",
            "782/782 [==============================] - 14s 18ms/step - loss: 0.1175 - accuracy: 0.9607 - val_loss: 0.4976 - val_accuracy: 0.8220\n",
            "Epoch 6/50\n",
            "782/782 [==============================] - 14s 18ms/step - loss: 0.0783 - accuracy: 0.9756 - val_loss: 0.6287 - val_accuracy: 0.8178\n",
            "Epoch 7/50\n",
            "782/782 [==============================] - 14s 18ms/step - loss: 0.0467 - accuracy: 0.9860 - val_loss: 0.6455 - val_accuracy: 0.8149\n",
            "Epoch 8/50\n",
            "782/782 [==============================] - 14s 18ms/step - loss: 0.0270 - accuracy: 0.9917 - val_loss: 0.7864 - val_accuracy: 0.8172\n",
            "Epoch 9/50\n",
            "782/782 [==============================] - 14s 17ms/step - loss: 0.0239 - accuracy: 0.9921 - val_loss: 0.8835 - val_accuracy: 0.8167\n",
            "Epoch 10/50\n",
            "782/782 [==============================] - 14s 18ms/step - loss: 0.0196 - accuracy: 0.9939 - val_loss: 1.0554 - val_accuracy: 0.8048\n",
            "Epoch 11/50\n",
            "782/782 [==============================] - 14s 18ms/step - loss: 0.0126 - accuracy: 0.9961 - val_loss: 0.9492 - val_accuracy: 0.8149\n",
            "Epoch 12/50\n",
            "782/782 [==============================] - 14s 18ms/step - loss: 0.0158 - accuracy: 0.9956 - val_loss: 1.1333 - val_accuracy: 0.8122\n",
            "Epoch 13/50\n",
            "782/782 [==============================] - 14s 18ms/step - loss: 0.0195 - accuracy: 0.9937 - val_loss: 0.9493 - val_accuracy: 0.8132\n",
            "Epoch 14/50\n",
            "782/782 [==============================] - 14s 18ms/step - loss: 0.0088 - accuracy: 0.9968 - val_loss: 1.0755 - val_accuracy: 0.8187\n",
            "Epoch 15/50\n",
            "782/782 [==============================] - 14s 18ms/step - loss: 0.0039 - accuracy: 0.9989 - val_loss: 1.2069 - val_accuracy: 0.8169\n",
            "Epoch 16/50\n",
            "782/782 [==============================] - 14s 18ms/step - loss: 0.0043 - accuracy: 0.9987 - val_loss: 1.3380 - val_accuracy: 0.8130\n",
            "Epoch 17/50\n",
            "782/782 [==============================] - 14s 18ms/step - loss: 0.0104 - accuracy: 0.9970 - val_loss: 1.3445 - val_accuracy: 0.8056\n",
            "Epoch 18/50\n",
            "782/782 [==============================] - 14s 18ms/step - loss: 0.0073 - accuracy: 0.9977 - val_loss: 1.2073 - val_accuracy: 0.8080\n",
            "Epoch 19/50\n",
            "782/782 [==============================] - 14s 18ms/step - loss: 0.0049 - accuracy: 0.9982 - val_loss: 1.1248 - val_accuracy: 0.8076\n",
            "Epoch 20/50\n",
            "782/782 [==============================] - 14s 18ms/step - loss: 0.0046 - accuracy: 0.9989 - val_loss: 1.2798 - val_accuracy: 0.8154\n",
            "Epoch 21/50\n",
            "782/782 [==============================] - 14s 18ms/step - loss: 0.0045 - accuracy: 0.9988 - val_loss: 1.3652 - val_accuracy: 0.8117\n",
            "Epoch 22/50\n",
            "782/782 [==============================] - 14s 18ms/step - loss: 0.0048 - accuracy: 0.9986 - val_loss: 1.3761 - val_accuracy: 0.8186\n",
            "Epoch 23/50\n",
            "782/782 [==============================] - 14s 17ms/step - loss: 0.0081 - accuracy: 0.9969 - val_loss: 1.1877 - val_accuracy: 0.8144\n",
            "Epoch 24/50\n",
            "782/782 [==============================] - 14s 17ms/step - loss: 0.0034 - accuracy: 0.9988 - val_loss: 1.3833 - val_accuracy: 0.8138\n",
            "Epoch 25/50\n",
            "782/782 [==============================] - 14s 18ms/step - loss: 0.0010 - accuracy: 0.9997 - val_loss: 1.3548 - val_accuracy: 0.8092\n",
            "Epoch 26/50\n",
            "782/782 [==============================] - 14s 17ms/step - loss: 0.0032 - accuracy: 0.9990 - val_loss: 1.3997 - val_accuracy: 0.8139\n",
            "Epoch 27/50\n",
            "782/782 [==============================] - 14s 18ms/step - loss: 0.0059 - accuracy: 0.9979 - val_loss: 1.3890 - val_accuracy: 0.8128\n",
            "Epoch 28/50\n",
            "782/782 [==============================] - 14s 18ms/step - loss: 0.0023 - accuracy: 0.9994 - val_loss: 1.4605 - val_accuracy: 0.8090\n",
            "Epoch 29/50\n",
            "782/782 [==============================] - 14s 18ms/step - loss: 4.7793e-04 - accuracy: 0.9999 - val_loss: 1.5363 - val_accuracy: 0.8050\n",
            "Epoch 30/50\n",
            "782/782 [==============================] - 14s 18ms/step - loss: 6.1312e-04 - accuracy: 0.9998 - val_loss: 1.5763 - val_accuracy: 0.8134\n",
            "Epoch 31/50\n",
            "782/782 [==============================] - 14s 18ms/step - loss: 0.0042 - accuracy: 0.9986 - val_loss: 1.5144 - val_accuracy: 0.7988\n",
            "Epoch 32/50\n",
            "782/782 [==============================] - 14s 18ms/step - loss: 0.0052 - accuracy: 0.9982 - val_loss: 1.5409 - val_accuracy: 0.8152\n",
            "Epoch 33/50\n",
            "782/782 [==============================] - 14s 17ms/step - loss: 0.0017 - accuracy: 0.9994 - val_loss: 1.7848 - val_accuracy: 0.8083\n",
            "Epoch 34/50\n",
            "782/782 [==============================] - 14s 18ms/step - loss: 0.0011 - accuracy: 0.9998 - val_loss: 1.5863 - val_accuracy: 0.8142\n",
            "Epoch 35/50\n",
            "782/782 [==============================] - 14s 18ms/step - loss: 5.2066e-04 - accuracy: 0.9999 - val_loss: 1.6391 - val_accuracy: 0.8124\n",
            "Epoch 36/50\n",
            "782/782 [==============================] - 14s 18ms/step - loss: 0.0043 - accuracy: 0.9985 - val_loss: 1.4730 - val_accuracy: 0.8105\n",
            "Epoch 37/50\n",
            "782/782 [==============================] - 14s 18ms/step - loss: 0.0020 - accuracy: 0.9995 - val_loss: 1.5020 - val_accuracy: 0.8152\n",
            "Epoch 38/50\n",
            "782/782 [==============================] - 14s 18ms/step - loss: 0.0014 - accuracy: 0.9995 - val_loss: 1.6067 - val_accuracy: 0.8110\n",
            "Epoch 39/50\n",
            "782/782 [==============================] - 14s 17ms/step - loss: 3.8348e-04 - accuracy: 0.9998 - val_loss: 1.6756 - val_accuracy: 0.8117\n",
            "Epoch 40/50\n",
            "782/782 [==============================] - 14s 17ms/step - loss: 4.2676e-05 - accuracy: 1.0000 - val_loss: 1.6702 - val_accuracy: 0.8163\n",
            "Epoch 41/50\n",
            "782/782 [==============================] - 14s 17ms/step - loss: 1.2513e-05 - accuracy: 1.0000 - val_loss: 1.7102 - val_accuracy: 0.8164\n",
            "Epoch 42/50\n",
            "782/782 [==============================] - 14s 18ms/step - loss: 8.6298e-06 - accuracy: 1.0000 - val_loss: 1.7503 - val_accuracy: 0.8161\n",
            "Epoch 43/50\n",
            "782/782 [==============================] - 14s 18ms/step - loss: 6.0538e-06 - accuracy: 1.0000 - val_loss: 1.7936 - val_accuracy: 0.8163\n",
            "Epoch 44/50\n",
            "782/782 [==============================] - 14s 18ms/step - loss: 4.3331e-06 - accuracy: 1.0000 - val_loss: 1.8397 - val_accuracy: 0.8164\n",
            "Epoch 45/50\n",
            "782/782 [==============================] - 14s 18ms/step - loss: 2.9173e-06 - accuracy: 1.0000 - val_loss: 1.8877 - val_accuracy: 0.8166\n",
            "Epoch 46/50\n",
            "782/782 [==============================] - 14s 18ms/step - loss: 2.3291e-06 - accuracy: 1.0000 - val_loss: 1.9375 - val_accuracy: 0.8171\n",
            "Epoch 47/50\n",
            "782/782 [==============================] - 14s 18ms/step - loss: 1.4802e-06 - accuracy: 1.0000 - val_loss: 1.9920 - val_accuracy: 0.8166\n",
            "Epoch 48/50\n",
            "782/782 [==============================] - 14s 18ms/step - loss: 9.9385e-07 - accuracy: 1.0000 - val_loss: 2.0470 - val_accuracy: 0.8166\n",
            "Epoch 49/50\n",
            "782/782 [==============================] - 14s 18ms/step - loss: 7.0697e-07 - accuracy: 1.0000 - val_loss: 2.1053 - val_accuracy: 0.8167\n",
            "Epoch 50/50\n",
            "782/782 [==============================] - 14s 18ms/step - loss: 4.8008e-07 - accuracy: 1.0000 - val_loss: 2.1629 - val_accuracy: 0.8168\n"
          ],
          "name": "stdout"
        }
      ]
    },
    {
      "cell_type": "code",
      "metadata": {
        "colab": {
          "base_uri": "https://localhost:8080/",
          "height": 541
        },
        "id": "nHGYuU4jPYaj",
        "outputId": "68630f64-b6f4-4453-9cef-286fe7c876d9"
      },
      "source": [
        "import matplotlib.pyplot as plt\n",
        "\n",
        "\n",
        "def plot_graphs(history, string):\n",
        "  plt.plot(history.history[string])\n",
        "  plt.plot(history.history['val_'+string])\n",
        "  plt.xlabel(\"Epochs\")\n",
        "  plt.ylabel(string)\n",
        "  plt.legend([string, 'val_'+string])\n",
        "  plt.show()\n",
        "\n",
        "plot_graphs(history, 'accuracy')\n",
        "plot_graphs(history, 'loss')"
      ],
      "execution_count": 9,
      "outputs": [
        {
          "output_type": "display_data",
          "data": {
            "image/png": "[encoded data removed]",
            "text/plain": [
              "<Figure size 432x288 with 1 Axes>"
            ]
          },
          "metadata": {
            "tags": [],
            "needs_background": "light"
          }
        },
        {
          "output_type": "display_data",
          "data": {
            "image/png": "[encoded data removed]",
            "text/plain": [
              "<Figure size 432x288 with 1 Axes>"
            ]
          },
          "metadata": {
            "tags": [],
            "needs_background": "light"
          }
        }
      ]
    },
    {
      "cell_type": "code",
      "metadata": {
        "colab": {
          "base_uri": "https://localhost:8080/"
        },
        "id": "wSualgGPPK0S",
        "outputId": "f90d7197-939b-4ff6-83a8-9de324de8e19"
      },
      "source": [
        "# Model Definition with LSTM\n",
        "model = tf.keras.Sequential([\n",
        "    tf.keras.layers.Embedding(vocab_size, embedding_dim, input_length=max_length),\n",
        "    tf.keras.layers.Bidirectional(tf.keras.layers.LSTM(32)),\n",
        "    tf.keras.layers.Dense(6, activation='relu'),\n",
        "    tf.keras.layers.Dense(1, activation='sigmoid')\n",
        "])\n",
        "model.compile(loss='binary_crossentropy',optimizer='adam',metrics=['accuracy'])\n",
        "model.summary()\n"
      ],
      "execution_count": 12,
      "outputs": [
        {
          "output_type": "stream",
          "text": [
            "Model: \"sequential_3\"\n",
            "_________________________________________________________________\n",
            "Layer (type)                 Output Shape              Param #   \n",
            "=================================================================\n",
            "embedding_3 (Embedding)      (None, 120, 16)           160000    \n",
            "_________________________________________________________________\n",
            "bidirectional_2 (Bidirection (None, 64)                12544     \n",
            "_________________________________________________________________\n",
            "dense_6 (Dense)              (None, 6)                 390       \n",
            "_________________________________________________________________\n",
            "dense_7 (Dense)              (None, 1)                 7         \n",
            "=================================================================\n",
            "Total params: 172,941\n",
            "Trainable params: 172,941\n",
            "Non-trainable params: 0\n",
            "_________________________________________________________________\n"
          ],
          "name": "stdout"
        }
      ]
    },
    {
      "cell_type": "code",
      "metadata": {
        "colab": {
          "base_uri": "https://localhost:8080/"
        },
        "id": "r4SDrNiFD6WA",
        "outputId": "555b7b78-ca33-4cd5-82b4-49c49484733e"
      },
      "source": [
        "num_epochs = 50\n",
        "history = model.fit(padded, training_labels_final, epochs=num_epochs, validation_data=(testing_padded, testing_labels_final))"
      ],
      "execution_count": 13,
      "outputs": [
        {
          "output_type": "stream",
          "text": [
            "Epoch 1/50\n",
            "782/782 [==============================] - 18s 19ms/step - loss: 0.5910 - accuracy: 0.6555 - val_loss: 0.3746 - val_accuracy: 0.8420\n",
            "Epoch 2/50\n",
            "782/782 [==============================] - 14s 18ms/step - loss: 0.3070 - accuracy: 0.8795 - val_loss: 0.3656 - val_accuracy: 0.8442\n",
            "Epoch 3/50\n",
            "782/782 [==============================] - 14s 18ms/step - loss: 0.2382 - accuracy: 0.9111 - val_loss: 0.4190 - val_accuracy: 0.8303\n",
            "Epoch 4/50\n",
            "782/782 [==============================] - 14s 18ms/step - loss: 0.2127 - accuracy: 0.9228 - val_loss: 0.3986 - val_accuracy: 0.8329\n",
            "Epoch 5/50\n",
            "782/782 [==============================] - 14s 18ms/step - loss: 0.1677 - accuracy: 0.9425 - val_loss: 0.4750 - val_accuracy: 0.8284\n",
            "Epoch 6/50\n",
            "782/782 [==============================] - 14s 18ms/step - loss: 0.1317 - accuracy: 0.9568 - val_loss: 0.5243 - val_accuracy: 0.8248\n",
            "Epoch 7/50\n",
            "782/782 [==============================] - 14s 18ms/step - loss: 0.1085 - accuracy: 0.9633 - val_loss: 0.5679 - val_accuracy: 0.8212\n",
            "Epoch 8/50\n",
            "782/782 [==============================] - 14s 18ms/step - loss: 0.0727 - accuracy: 0.9772 - val_loss: 0.6013 - val_accuracy: 0.8211\n",
            "Epoch 9/50\n",
            "782/782 [==============================] - 14s 18ms/step - loss: 0.0649 - accuracy: 0.9795 - val_loss: 0.7301 - val_accuracy: 0.8201\n",
            "Epoch 10/50\n",
            "782/782 [==============================] - 14s 18ms/step - loss: 0.0419 - accuracy: 0.9857 - val_loss: 0.8496 - val_accuracy: 0.8149\n",
            "Epoch 11/50\n",
            "782/782 [==============================] - 14s 18ms/step - loss: 0.0339 - accuracy: 0.9892 - val_loss: 0.7319 - val_accuracy: 0.8152\n",
            "Epoch 12/50\n",
            "782/782 [==============================] - 14s 18ms/step - loss: 0.0283 - accuracy: 0.9906 - val_loss: 0.9361 - val_accuracy: 0.8179\n",
            "Epoch 13/50\n",
            "782/782 [==============================] - 14s 18ms/step - loss: 0.0239 - accuracy: 0.9919 - val_loss: 0.9095 - val_accuracy: 0.8130\n",
            "Epoch 14/50\n",
            "782/782 [==============================] - 14s 18ms/step - loss: 0.0219 - accuracy: 0.9934 - val_loss: 1.0006 - val_accuracy: 0.8111\n",
            "Epoch 15/50\n",
            "782/782 [==============================] - 14s 18ms/step - loss: 0.0133 - accuracy: 0.9961 - val_loss: 1.0467 - val_accuracy: 0.8180\n",
            "Epoch 16/50\n",
            "782/782 [==============================] - 14s 18ms/step - loss: 0.0172 - accuracy: 0.9940 - val_loss: 0.8314 - val_accuracy: 0.8137\n",
            "Epoch 17/50\n",
            "782/782 [==============================] - 14s 18ms/step - loss: 0.0141 - accuracy: 0.9966 - val_loss: 1.0261 - val_accuracy: 0.7920\n",
            "Epoch 18/50\n",
            "782/782 [==============================] - 14s 18ms/step - loss: 0.0249 - accuracy: 0.9911 - val_loss: 1.0294 - val_accuracy: 0.8118\n",
            "Epoch 19/50\n",
            "782/782 [==============================] - 14s 18ms/step - loss: 0.0059 - accuracy: 0.9981 - val_loss: 1.2484 - val_accuracy: 0.8164\n",
            "Epoch 20/50\n",
            "782/782 [==============================] - 14s 18ms/step - loss: 0.0049 - accuracy: 0.9984 - val_loss: 1.0610 - val_accuracy: 0.8016\n",
            "Epoch 21/50\n",
            "782/782 [==============================] - 14s 18ms/step - loss: 0.0150 - accuracy: 0.9951 - val_loss: 1.2251 - val_accuracy: 0.8120\n",
            "Epoch 22/50\n",
            "782/782 [==============================] - 14s 18ms/step - loss: 0.0086 - accuracy: 0.9973 - val_loss: 1.4220 - val_accuracy: 0.8004\n",
            "Epoch 23/50\n",
            "782/782 [==============================] - 14s 18ms/step - loss: 0.0172 - accuracy: 0.9948 - val_loss: 1.1574 - val_accuracy: 0.8141\n",
            "Epoch 24/50\n",
            "782/782 [==============================] - 14s 18ms/step - loss: 0.0033 - accuracy: 0.9993 - val_loss: 1.3338 - val_accuracy: 0.8123\n",
            "Epoch 25/50\n",
            "782/782 [==============================] - 14s 18ms/step - loss: 0.0105 - accuracy: 0.9975 - val_loss: 1.3137 - val_accuracy: 0.8158\n",
            "Epoch 26/50\n",
            "782/782 [==============================] - 14s 18ms/step - loss: 0.0062 - accuracy: 0.9985 - val_loss: 1.1511 - val_accuracy: 0.8071\n",
            "Epoch 27/50\n",
            "782/782 [==============================] - 14s 18ms/step - loss: 0.0122 - accuracy: 0.9963 - val_loss: 1.2405 - val_accuracy: 0.8120\n",
            "Epoch 28/50\n",
            "782/782 [==============================] - 14s 18ms/step - loss: 0.0014 - accuracy: 0.9997 - val_loss: 1.3378 - val_accuracy: 0.8117\n",
            "Epoch 29/50\n",
            "782/782 [==============================] - 14s 18ms/step - loss: 0.0051 - accuracy: 0.9986 - val_loss: 1.4170 - val_accuracy: 0.8134\n",
            "Epoch 30/50\n",
            "782/782 [==============================] - 14s 18ms/step - loss: 0.0050 - accuracy: 0.9984 - val_loss: 1.3753 - val_accuracy: 0.8136\n",
            "Epoch 31/50\n",
            "782/782 [==============================] - 14s 18ms/step - loss: 0.0082 - accuracy: 0.9974 - val_loss: 1.4304 - val_accuracy: 0.8118\n",
            "Epoch 32/50\n",
            "782/782 [==============================] - 14s 18ms/step - loss: 0.0056 - accuracy: 0.9982 - val_loss: 1.3890 - val_accuracy: 0.8130\n",
            "Epoch 33/50\n",
            "782/782 [==============================] - 14s 18ms/step - loss: 0.0035 - accuracy: 0.9987 - val_loss: 1.4432 - val_accuracy: 0.8133\n",
            "Epoch 34/50\n",
            "782/782 [==============================] - 14s 18ms/step - loss: 0.0035 - accuracy: 0.9991 - val_loss: 1.3159 - val_accuracy: 0.8072\n",
            "Epoch 35/50\n",
            "782/782 [==============================] - 14s 18ms/step - loss: 0.0039 - accuracy: 0.9991 - val_loss: 1.4180 - val_accuracy: 0.8120\n",
            "Epoch 36/50\n",
            "782/782 [==============================] - 14s 18ms/step - loss: 0.0047 - accuracy: 0.9980 - val_loss: 1.3660 - val_accuracy: 0.8082\n",
            "Epoch 37/50\n",
            "782/782 [==============================] - 14s 18ms/step - loss: 0.0016 - accuracy: 0.9996 - val_loss: 1.4739 - val_accuracy: 0.8158\n",
            "Epoch 38/50\n",
            "782/782 [==============================] - 14s 18ms/step - loss: 0.0026 - accuracy: 0.9992 - val_loss: 1.4433 - val_accuracy: 0.8136\n",
            "Epoch 39/50\n",
            "782/782 [==============================] - 14s 18ms/step - loss: 0.0019 - accuracy: 0.9993 - val_loss: 1.2509 - val_accuracy: 0.8128\n",
            "Epoch 40/50\n",
            "782/782 [==============================] - 14s 18ms/step - loss: 0.0026 - accuracy: 0.9992 - val_loss: 1.3171 - val_accuracy: 0.7815\n",
            "Epoch 41/50\n",
            "782/782 [==============================] - 14s 18ms/step - loss: 0.0095 - accuracy: 0.9969 - val_loss: 1.4009 - val_accuracy: 0.8168\n",
            "Epoch 42/50\n",
            "782/782 [==============================] - 14s 18ms/step - loss: 3.9064e-04 - accuracy: 1.0000 - val_loss: 1.4507 - val_accuracy: 0.8141\n",
            "Epoch 43/50\n",
            "782/782 [==============================] - 14s 18ms/step - loss: 1.4936e-04 - accuracy: 1.0000 - val_loss: 1.5976 - val_accuracy: 0.8162\n",
            "Epoch 44/50\n",
            "782/782 [==============================] - 14s 18ms/step - loss: 3.6973e-05 - accuracy: 1.0000 - val_loss: 1.7064 - val_accuracy: 0.8168\n",
            "Epoch 45/50\n",
            "782/782 [==============================] - 14s 18ms/step - loss: 2.0635e-05 - accuracy: 1.0000 - val_loss: 1.7883 - val_accuracy: 0.8158\n",
            "Epoch 46/50\n",
            "782/782 [==============================] - 14s 18ms/step - loss: 1.3075e-05 - accuracy: 1.0000 - val_loss: 1.8573 - val_accuracy: 0.8154\n",
            "Epoch 47/50\n",
            "782/782 [==============================] - 14s 18ms/step - loss: 9.1773e-06 - accuracy: 1.0000 - val_loss: 1.9290 - val_accuracy: 0.8148\n",
            "Epoch 48/50\n",
            "782/782 [==============================] - 14s 18ms/step - loss: 6.1387e-06 - accuracy: 1.0000 - val_loss: 2.0010 - val_accuracy: 0.8148\n",
            "Epoch 49/50\n",
            "782/782 [==============================] - 14s 18ms/step - loss: 3.9893e-06 - accuracy: 1.0000 - val_loss: 2.0737 - val_accuracy: 0.8147\n",
            "Epoch 50/50\n",
            "782/782 [==============================] - 14s 18ms/step - loss: 2.4650e-06 - accuracy: 1.0000 - val_loss: 2.1455 - val_accuracy: 0.8146\n"
          ],
          "name": "stdout"
        }
      ]
    },
    {
      "cell_type": "code",
      "metadata": {
        "colab": {
          "base_uri": "https://localhost:8080/",
          "height": 541
        },
        "id": "YTwKd7edD-t_",
        "outputId": "b6912a24-e244-4986-e5e4-32f18759e479"
      },
      "source": [
        "import matplotlib.pyplot as plt\n",
        "\n",
        "\n",
        "def plot_graphs(history, string):\n",
        "  plt.plot(history.history[string])\n",
        "  plt.plot(history.history['val_'+string])\n",
        "  plt.xlabel(\"Epochs\")\n",
        "  plt.ylabel(string)\n",
        "  plt.legend([string, 'val_'+string])\n",
        "  plt.show()\n",
        "\n",
        "plot_graphs(history, 'accuracy')\n",
        "plot_graphs(history, 'loss')"
      ],
      "execution_count": 14,
      "outputs": [
        {
          "output_type": "display_data",
          "data": {
            "image/png": "[encoded data removed]",
            "text/plain": [
              "<Figure size 432x288 with 1 Axes>"
            ]
          },
          "metadata": {
            "tags": [],
            "needs_background": "light"
          }
        },
        {
          "output_type": "display_data",
          "data": {
            "image/png": "[encoded data removed]",
            "text/plain": [
              "<Figure size 432x288 with 1 Axes>"
            ]
          },
          "metadata": {
            "tags": [],
            "needs_background": "light"
          }
        }
      ]
    },
    {
      "cell_type": "code",
      "metadata": {
        "colab": {
          "base_uri": "https://localhost:8080/"
        },
        "id": "K_Jc7cY3Qxke",
        "outputId": "4cff1a07-ff27-4695-8aea-a3be2cf04115"
      },
      "source": [
        "# Model Definition with Conv1D\n",
        "model = tf.keras.Sequential([\n",
        "    tf.keras.layers.Embedding(vocab_size, embedding_dim, input_length=max_length),\n",
        "    tf.keras.layers.Conv1D(128, 5, activation='relu'),\n",
        "    tf.keras.layers.GlobalAveragePooling1D(),\n",
        "    tf.keras.layers.Dense(6, activation='relu'),\n",
        "    tf.keras.layers.Dense(1, activation='sigmoid')\n",
        "])\n",
        "model.compile(loss='binary_crossentropy',optimizer='adam',metrics=['accuracy'])\n",
        "model.summary()\n"
      ],
      "execution_count": 15,
      "outputs": [
        {
          "output_type": "stream",
          "text": [
            "Model: \"sequential_4\"\n",
            "_________________________________________________________________\n",
            "Layer (type)                 Output Shape              Param #   \n",
            "=================================================================\n",
            "embedding_4 (Embedding)      (None, 120, 16)           160000    \n",
            "_________________________________________________________________\n",
            "conv1d_1 (Conv1D)            (None, 116, 128)          10368     \n",
            "_________________________________________________________________\n",
            "global_average_pooling1d_1 ( (None, 128)               0         \n",
            "_________________________________________________________________\n",
            "dense_8 (Dense)              (None, 6)                 774       \n",
            "_________________________________________________________________\n",
            "dense_9 (Dense)              (None, 1)                 7         \n",
            "=================================================================\n",
            "Total params: 171,149\n",
            "Trainable params: 171,149\n",
            "Non-trainable params: 0\n",
            "_________________________________________________________________\n"
          ],
          "name": "stdout"
        }
      ]
    },
    {
      "cell_type": "code",
      "metadata": {
        "colab": {
          "base_uri": "https://localhost:8080/"
        },
        "id": "iQt_h1r8D75A",
        "outputId": "559576d6-85a3-4c6b-e1e2-0c4395027996"
      },
      "source": [
        "num_epochs = 50\n",
        "history = model.fit(padded, training_labels_final, epochs=num_epochs, validation_data=(testing_padded, testing_labels_final))"
      ],
      "execution_count": 16,
      "outputs": [
        {
          "output_type": "stream",
          "text": [
            "Epoch 1/50\n",
            "782/782 [==============================] - 7s 8ms/step - loss: 0.5433 - accuracy: 0.6875 - val_loss: 0.3486 - val_accuracy: 0.8496\n",
            "Epoch 2/50\n",
            "782/782 [==============================] - 6s 7ms/step - loss: 0.2665 - accuracy: 0.8938 - val_loss: 0.3582 - val_accuracy: 0.8425\n",
            "Epoch 3/50\n",
            "782/782 [==============================] - 6s 7ms/step - loss: 0.2160 - accuracy: 0.9173 - val_loss: 0.3833 - val_accuracy: 0.8379\n",
            "Epoch 4/50\n",
            "782/782 [==============================] - 6s 7ms/step - loss: 0.1764 - accuracy: 0.9388 - val_loss: 0.4241 - val_accuracy: 0.8297\n",
            "Epoch 5/50\n",
            "782/782 [==============================] - 6s 7ms/step - loss: 0.1396 - accuracy: 0.9531 - val_loss: 0.4657 - val_accuracy: 0.8247\n",
            "Epoch 6/50\n",
            "782/782 [==============================] - 6s 7ms/step - loss: 0.1120 - accuracy: 0.9667 - val_loss: 0.5505 - val_accuracy: 0.8136\n",
            "Epoch 7/50\n",
            "782/782 [==============================] - 6s 7ms/step - loss: 0.0899 - accuracy: 0.9743 - val_loss: 0.6291 - val_accuracy: 0.8109\n",
            "Epoch 8/50\n",
            "782/782 [==============================] - 6s 7ms/step - loss: 0.0718 - accuracy: 0.9806 - val_loss: 0.7179 - val_accuracy: 0.8083\n",
            "Epoch 9/50\n",
            "782/782 [==============================] - 6s 7ms/step - loss: 0.0550 - accuracy: 0.9859 - val_loss: 0.7720 - val_accuracy: 0.8057\n",
            "Epoch 10/50\n",
            "782/782 [==============================] - 6s 7ms/step - loss: 0.0419 - accuracy: 0.9896 - val_loss: 0.8898 - val_accuracy: 0.8028\n",
            "Epoch 11/50\n",
            "782/782 [==============================] - 6s 7ms/step - loss: 0.0340 - accuracy: 0.9899 - val_loss: 1.0228 - val_accuracy: 0.7998\n",
            "Epoch 12/50\n",
            "782/782 [==============================] - 6s 7ms/step - loss: 0.0250 - accuracy: 0.9928 - val_loss: 1.1993 - val_accuracy: 0.7972\n",
            "Epoch 13/50\n",
            "782/782 [==============================] - 6s 8ms/step - loss: 0.0195 - accuracy: 0.9937 - val_loss: 1.2104 - val_accuracy: 0.7958\n",
            "Epoch 14/50\n",
            "782/782 [==============================] - 6s 8ms/step - loss: 0.0206 - accuracy: 0.9939 - val_loss: 1.3589 - val_accuracy: 0.7950\n",
            "Epoch 15/50\n",
            "782/782 [==============================] - 6s 7ms/step - loss: 0.0128 - accuracy: 0.9955 - val_loss: 1.5053 - val_accuracy: 0.7944\n",
            "Epoch 16/50\n",
            "782/782 [==============================] - 6s 7ms/step - loss: 0.0098 - accuracy: 0.9970 - val_loss: 1.6476 - val_accuracy: 0.7891\n",
            "Epoch 17/50\n",
            "782/782 [==============================] - 6s 7ms/step - loss: 0.0085 - accuracy: 0.9971 - val_loss: 1.7433 - val_accuracy: 0.7943\n",
            "Epoch 18/50\n",
            "782/782 [==============================] - 6s 8ms/step - loss: 0.0083 - accuracy: 0.9970 - val_loss: 1.7524 - val_accuracy: 0.7983\n",
            "Epoch 19/50\n",
            "782/782 [==============================] - 6s 8ms/step - loss: 0.0081 - accuracy: 0.9974 - val_loss: 1.7662 - val_accuracy: 0.7992\n",
            "Epoch 20/50\n",
            "782/782 [==============================] - 6s 8ms/step - loss: 0.0100 - accuracy: 0.9963 - val_loss: 1.8343 - val_accuracy: 0.7982\n",
            "Epoch 21/50\n",
            "782/782 [==============================] - 6s 8ms/step - loss: 0.0056 - accuracy: 0.9983 - val_loss: 1.9613 - val_accuracy: 0.7966\n",
            "Epoch 22/50\n",
            "782/782 [==============================] - 6s 8ms/step - loss: 0.0019 - accuracy: 0.9996 - val_loss: 2.0154 - val_accuracy: 0.7967\n",
            "Epoch 23/50\n",
            "782/782 [==============================] - 6s 8ms/step - loss: 0.0035 - accuracy: 0.9988 - val_loss: 2.1171 - val_accuracy: 0.7961\n",
            "Epoch 24/50\n",
            "782/782 [==============================] - 6s 8ms/step - loss: 0.0067 - accuracy: 0.9981 - val_loss: 2.0314 - val_accuracy: 0.7947\n",
            "Epoch 25/50\n",
            "782/782 [==============================] - 6s 8ms/step - loss: 0.0078 - accuracy: 0.9972 - val_loss: 2.0380 - val_accuracy: 0.7956\n",
            "Epoch 26/50\n",
            "782/782 [==============================] - 6s 8ms/step - loss: 0.0046 - accuracy: 0.9986 - val_loss: 2.0435 - val_accuracy: 0.7978\n",
            "Epoch 27/50\n",
            "782/782 [==============================] - 6s 8ms/step - loss: 0.0024 - accuracy: 0.9993 - val_loss: 2.0980 - val_accuracy: 0.7984\n",
            "Epoch 28/50\n",
            "782/782 [==============================] - 7s 8ms/step - loss: 5.1600e-04 - accuracy: 1.0000 - val_loss: 2.2396 - val_accuracy: 0.7974\n",
            "Epoch 29/50\n",
            "782/782 [==============================] - 6s 8ms/step - loss: 9.8295e-05 - accuracy: 1.0000 - val_loss: 2.2963 - val_accuracy: 0.7976\n",
            "Epoch 30/50\n",
            "782/782 [==============================] - 6s 8ms/step - loss: 4.7675e-05 - accuracy: 1.0000 - val_loss: 2.3515 - val_accuracy: 0.7976\n",
            "Epoch 31/50\n",
            "782/782 [==============================] - 6s 8ms/step - loss: 3.3510e-05 - accuracy: 1.0000 - val_loss: 2.4207 - val_accuracy: 0.7977\n",
            "Epoch 32/50\n",
            "782/782 [==============================] - 6s 8ms/step - loss: 2.2424e-05 - accuracy: 1.0000 - val_loss: 2.4862 - val_accuracy: 0.7978\n",
            "Epoch 33/50\n",
            "782/782 [==============================] - 7s 9ms/step - loss: 1.5867e-05 - accuracy: 1.0000 - val_loss: 2.5462 - val_accuracy: 0.7984\n",
            "Epoch 34/50\n",
            "782/782 [==============================] - 7s 9ms/step - loss: 1.3836e-05 - accuracy: 1.0000 - val_loss: 2.6161 - val_accuracy: 0.7981\n",
            "Epoch 35/50\n",
            "782/782 [==============================] - 7s 9ms/step - loss: 9.2166e-06 - accuracy: 1.0000 - val_loss: 2.6847 - val_accuracy: 0.7986\n",
            "Epoch 36/50\n",
            "782/782 [==============================] - 7s 9ms/step - loss: 5.1431e-06 - accuracy: 1.0000 - val_loss: 2.7639 - val_accuracy: 0.7986\n",
            "Epoch 37/50\n",
            "782/782 [==============================] - 7s 9ms/step - loss: 3.8069e-06 - accuracy: 1.0000 - val_loss: 2.8348 - val_accuracy: 0.7984\n",
            "Epoch 38/50\n",
            "782/782 [==============================] - 7s 9ms/step - loss: 2.7525e-06 - accuracy: 1.0000 - val_loss: 2.9142 - val_accuracy: 0.7985\n",
            "Epoch 39/50\n",
            "782/782 [==============================] - 7s 9ms/step - loss: 1.6684e-06 - accuracy: 1.0000 - val_loss: 2.9933 - val_accuracy: 0.7985\n",
            "Epoch 40/50\n",
            "782/782 [==============================] - 7s 8ms/step - loss: 1.1539e-06 - accuracy: 1.0000 - val_loss: 3.0739 - val_accuracy: 0.7987\n",
            "Epoch 41/50\n",
            "782/782 [==============================] - 7s 9ms/step - loss: 7.4599e-07 - accuracy: 1.0000 - val_loss: 3.1553 - val_accuracy: 0.7986\n",
            "Epoch 42/50\n",
            "782/782 [==============================] - 7s 8ms/step - loss: 5.4978e-07 - accuracy: 1.0000 - val_loss: 3.2353 - val_accuracy: 0.7990\n",
            "Epoch 43/50\n",
            "782/782 [==============================] - 7s 9ms/step - loss: 3.6715e-07 - accuracy: 1.0000 - val_loss: 3.3237 - val_accuracy: 0.7988\n",
            "Epoch 44/50\n",
            "782/782 [==============================] - 7s 9ms/step - loss: 2.3493e-07 - accuracy: 1.0000 - val_loss: 3.4056 - val_accuracy: 0.7990\n",
            "Epoch 45/50\n",
            "782/782 [==============================] - 7s 9ms/step - loss: 1.5350e-07 - accuracy: 1.0000 - val_loss: 3.4902 - val_accuracy: 0.7991\n",
            "Epoch 46/50\n",
            "782/782 [==============================] - 7s 9ms/step - loss: 1.1058e-07 - accuracy: 1.0000 - val_loss: 3.5708 - val_accuracy: 0.7992\n",
            "Epoch 47/50\n",
            "782/782 [==============================] - 7s 8ms/step - loss: 7.1833e-08 - accuracy: 1.0000 - val_loss: 3.6487 - val_accuracy: 0.7994\n",
            "Epoch 48/50\n",
            "782/782 [==============================] - 7s 9ms/step - loss: 4.9596e-08 - accuracy: 1.0000 - val_loss: 3.7370 - val_accuracy: 0.7992\n",
            "Epoch 49/50\n",
            "782/782 [==============================] - 7s 9ms/step - loss: 3.3659e-08 - accuracy: 1.0000 - val_loss: 3.8132 - val_accuracy: 0.7990\n",
            "Epoch 50/50\n",
            "782/782 [==============================] - 7s 8ms/step - loss: 2.6679e-08 - accuracy: 1.0000 - val_loss: 3.8863 - val_accuracy: 0.7992\n"
          ],
          "name": "stdout"
        }
      ]
    },
    {
      "cell_type": "code",
      "metadata": {
        "colab": {
          "base_uri": "https://localhost:8080/",
          "height": 541
        },
        "id": "xHv0_IaZD_-l",
        "outputId": "6c38a0e4-1547-42a5-ce3a-1c8ecf087ca7"
      },
      "source": [
        "import matplotlib.pyplot as plt\n",
        "\n",
        "\n",
        "def plot_graphs(history, string):\n",
        "  plt.plot(history.history[string])\n",
        "  plt.plot(history.history['val_'+string])\n",
        "  plt.xlabel(\"Epochs\")\n",
        "  plt.ylabel(string)\n",
        "  plt.legend([string, 'val_'+string])\n",
        "  plt.show()\n",
        "\n",
        "plot_graphs(history, 'accuracy')\n",
        "plot_graphs(history, 'loss')"
      ],
      "execution_count": 17,
      "outputs": [
        {
          "output_type": "display_data",
          "data": {
            "image/png": "[encoded data removed]",
            "text/plain": [
              "<Figure size 432x288 with 1 Axes>"
            ]
          },
          "metadata": {
            "tags": [],
            "needs_background": "light"
          }
        },
        {
          "output_type": "display_data",
          "data": {
            "image/png": "[encoded data removed]",
            "text/plain": [
              "<Figure size 432x288 with 1 Axes>"
            ]
          },
          "metadata": {
            "tags": [],
            "needs_background": "light"
          }
        }
      ]
    }
  ]
}