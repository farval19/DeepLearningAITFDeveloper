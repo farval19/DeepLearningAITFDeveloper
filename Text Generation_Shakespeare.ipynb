{
  "nbformat": 4,
  "nbformat_minor": 0,
  "metadata": {
    "accelerator": "TPU",
    "colab": {
      "name": "NLP_Week4_Exercise_Shakespeare_Answer.ipynb",
      "provenance": [],
      "toc_visible": true
    },
    "kernelspec": {
      "display_name": "Python 3",
      "name": "python3"
    }
  },
  "cells": [
    {
      "cell_type": "code",
      "metadata": {
        "id": "zX4Kg8DUTKWO"
      },
      "source": [
        "#@title Licensed under the Apache License, Version 2.0 (the \"License\");\n",
        "# you may not use this file except in compliance with the License.\n",
        "# You may obtain a copy of the License at\n",
        "#\n",
        "# https://www.apache.org/licenses/LICENSE-2.0\n",
        "#\n",
        "# Unless required by applicable law or agreed to in writing, software\n",
        "# distributed under the License is distributed on an \"AS IS\" BASIS,\n",
        "# WITHOUT WARRANTIES OR CONDITIONS OF ANY KIND, either express or implied.\n",
        "# See the License for the specific language governing permissions and\n",
        "# limitations under the License."
      ],
      "execution_count": null,
      "outputs": []
    },
    {
      "cell_type": "code",
      "metadata": {
        "id": "BOwsuGQQY9OL"
      },
      "source": [
        "from tensorflow.keras.preprocessing.sequence import pad_sequences\n",
        "from tensorflow.keras.layers import Embedding, LSTM, Dense, Dropout, Bidirectional\n",
        "from tensorflow.keras.preprocessing.text import Tokenizer\n",
        "from tensorflow.keras.models import Sequential\n",
        "from tensorflow.keras.optimizers import Adam\n",
        "from tensorflow.keras import regularizers\n",
        "import tensorflow.keras.utils as ku \n",
        "import numpy as np "
      ],
      "execution_count": 1,
      "outputs": []
    },
    {
      "cell_type": "code",
      "metadata": {
        "colab": {
          "base_uri": "https://localhost:8080/"
        },
        "id": "PRnDnCW-Z7qv",
        "outputId": "d93802ff-db4b-4e51-9430-08b24aab0659"
      },
      "source": [
        "tokenizer = Tokenizer()\n",
        "!wget --no-check-certificate \\\n",
        "    https://storage.googleapis.com/laurencemoroney-blog.appspot.com/sonnets.txt \\\n",
        "    -O /tmp/sonnets.txt\n",
        "data = open('/tmp/sonnets.txt').read()\n",
        "\n",
        "corpus = data.lower().split(\"\\n\")\n",
        "\n",
        "\n",
        "tokenizer.fit_on_texts(corpus)\n",
        "total_words = len(tokenizer.word_index) + 1\n",
        "\n",
        "# create input sequences using list of tokens\n",
        "input_sequences = []\n",
        "for line in corpus:\n",
        "\ttoken_list = tokenizer.texts_to_sequences([line])[0]\n",
        "\tfor i in range(1, len(token_list)):\n",
        "\t\tn_gram_sequence = token_list[:i+1]\n",
        "\t\tinput_sequences.append(n_gram_sequence)\n",
        "\n",
        "\n",
        "# pad sequences \n",
        "max_sequence_len = max([len(x) for x in input_sequences])\n",
        "input_sequences = np.array(pad_sequences(input_sequences, maxlen=max_sequence_len, padding='pre'))\n",
        "\n",
        "# create predictors and label\n",
        "predictors, label = input_sequences[:,:-1],input_sequences[:,-1]\n",
        "\n",
        "label = ku.to_categorical(label, num_classes=total_words)"
      ],
      "execution_count": 2,
      "outputs": [
        {
          "output_type": "stream",
          "text": [
            "--2021-05-20 02:46:54--  https://storage.googleapis.com/laurencemoroney-blog.appspot.com/sonnets.txt\n",
            "Resolving storage.googleapis.com (storage.googleapis.com)... 142.250.136.128, 142.250.148.128, 209.85.200.128, ...\n",
            "Connecting to storage.googleapis.com (storage.googleapis.com)|142.250.136.128|:443... connected.\n",
            "HTTP request sent, awaiting response... 200 OK\n",
            "Length: 93578 (91K) [text/plain]\n",
            "Saving to: ‘/tmp/sonnets.txt’\n",
            "\n",
            "\r/tmp/sonnets.txt      0%[                    ]       0  --.-KB/s               \r/tmp/sonnets.txt    100%[===================>]  91.38K  --.-KB/s    in 0.003s  \n",
            "\n",
            "2021-05-20 02:46:54 (26.0 MB/s) - ‘/tmp/sonnets.txt’ saved [93578/93578]\n",
            "\n"
          ],
          "name": "stdout"
        }
      ]
    },
    {
      "cell_type": "code",
      "metadata": {
        "colab": {
          "base_uri": "https://localhost:8080/"
        },
        "id": "w9vH8Y59ajYL",
        "outputId": "27c02536-b1f4-43cf-ca04-7591b090ecb1"
      },
      "source": [
        "model = Sequential()\n",
        "model.add(Embedding(total_words, 100, input_length=max_sequence_len-1))\n",
        "model.add(Bidirectional(LSTM(150, return_sequences = True)))\n",
        "model.add(Dropout(0.2))\n",
        "model.add(LSTM(100))\n",
        "model.add(Dense(total_words/2, activation='relu', kernel_regularizer=regularizers.l2(0.01)))\n",
        "model.add(Dense(total_words, activation='softmax'))\n",
        "model.compile(loss='categorical_crossentropy', optimizer='adam', metrics=['accuracy'])\n",
        "print(model.summary())\n"
      ],
      "execution_count": 3,
      "outputs": [
        {
          "output_type": "stream",
          "text": [
            "Model: \"sequential\"\n",
            "_________________________________________________________________\n",
            "Layer (type)                 Output Shape              Param #   \n",
            "=================================================================\n",
            "embedding (Embedding)        (None, 10, 100)           321100    \n",
            "_________________________________________________________________\n",
            "bidirectional (Bidirectional (None, 10, 300)           301200    \n",
            "_________________________________________________________________\n",
            "dropout (Dropout)            (None, 10, 300)           0         \n",
            "_________________________________________________________________\n",
            "lstm_1 (LSTM)                (None, 100)               160400    \n",
            "_________________________________________________________________\n",
            "dense (Dense)                (None, 1605)              162105    \n",
            "_________________________________________________________________\n",
            "dense_1 (Dense)              (None, 3211)              5156866   \n",
            "=================================================================\n",
            "Total params: 6,101,671\n",
            "Trainable params: 6,101,671\n",
            "Non-trainable params: 0\n",
            "_________________________________________________________________\n",
            "None\n"
          ],
          "name": "stdout"
        }
      ]
    },
    {
      "cell_type": "code",
      "metadata": {
        "colab": {
          "base_uri": "https://localhost:8080/"
        },
        "id": "AIg2f1HBxqof",
        "outputId": "c0a94994-158c-41d8-d9de-f2ac852292ab"
      },
      "source": [
        " history = model.fit(predictors, label, epochs=100, verbose=1)"
      ],
      "execution_count": 4,
      "outputs": [
        {
          "output_type": "stream",
          "text": [
            "Epoch 1/100\n",
            "484/484 [==============================] - 58s 109ms/step - loss: 7.3178 - accuracy: 0.0191\n",
            "Epoch 2/100\n",
            "484/484 [==============================] - 53s 109ms/step - loss: 6.4817 - accuracy: 0.0205\n",
            "Epoch 3/100\n",
            "484/484 [==============================] - 53s 109ms/step - loss: 6.3609 - accuracy: 0.0241\n",
            "Epoch 4/100\n",
            "484/484 [==============================] - 52s 108ms/step - loss: 6.2320 - accuracy: 0.0279\n",
            "Epoch 5/100\n",
            "484/484 [==============================] - 53s 110ms/step - loss: 6.1347 - accuracy: 0.0308\n",
            "Epoch 6/100\n",
            "484/484 [==============================] - 52s 108ms/step - loss: 6.0958 - accuracy: 0.0373\n",
            "Epoch 7/100\n",
            "484/484 [==============================] - 52s 108ms/step - loss: 6.0001 - accuracy: 0.0367\n",
            "Epoch 8/100\n",
            "484/484 [==============================] - 53s 109ms/step - loss: 5.9400 - accuracy: 0.0402\n",
            "Epoch 9/100\n",
            "484/484 [==============================] - 53s 109ms/step - loss: 5.8364 - accuracy: 0.0459\n",
            "Epoch 10/100\n",
            "484/484 [==============================] - 53s 109ms/step - loss: 5.7747 - accuracy: 0.0500\n",
            "Epoch 11/100\n",
            "484/484 [==============================] - 53s 109ms/step - loss: 5.5975 - accuracy: 0.0578\n",
            "Epoch 12/100\n",
            "484/484 [==============================] - 53s 109ms/step - loss: 5.5401 - accuracy: 0.0557\n",
            "Epoch 13/100\n",
            "484/484 [==============================] - 53s 109ms/step - loss: 5.4139 - accuracy: 0.0725\n",
            "Epoch 14/100\n",
            "484/484 [==============================] - 53s 109ms/step - loss: 5.3387 - accuracy: 0.0732\n",
            "Epoch 15/100\n",
            "484/484 [==============================] - 53s 109ms/step - loss: 5.2226 - accuracy: 0.0886\n",
            "Epoch 16/100\n",
            "484/484 [==============================] - 53s 110ms/step - loss: 5.1020 - accuracy: 0.0982\n",
            "Epoch 17/100\n",
            "484/484 [==============================] - 53s 109ms/step - loss: 5.0244 - accuracy: 0.1005\n",
            "Epoch 18/100\n",
            "484/484 [==============================] - 53s 108ms/step - loss: 4.9225 - accuracy: 0.1129\n",
            "Epoch 19/100\n",
            "484/484 [==============================] - 52s 107ms/step - loss: 4.7932 - accuracy: 0.1187\n",
            "Epoch 20/100\n",
            "484/484 [==============================] - 52s 107ms/step - loss: 4.6994 - accuracy: 0.1299\n",
            "Epoch 21/100\n",
            "484/484 [==============================] - 52s 107ms/step - loss: 4.5895 - accuracy: 0.1384\n",
            "Epoch 22/100\n",
            "484/484 [==============================] - 52s 107ms/step - loss: 4.4878 - accuracy: 0.1516\n",
            "Epoch 23/100\n",
            "484/484 [==============================] - 52s 107ms/step - loss: 4.3831 - accuracy: 0.1615\n",
            "Epoch 24/100\n",
            "484/484 [==============================] - 51s 106ms/step - loss: 4.2865 - accuracy: 0.1723\n",
            "Epoch 25/100\n",
            "484/484 [==============================] - 52s 107ms/step - loss: 4.2102 - accuracy: 0.1855\n",
            "Epoch 26/100\n",
            "484/484 [==============================] - 52s 107ms/step - loss: 4.0829 - accuracy: 0.1984\n",
            "Epoch 27/100\n",
            "484/484 [==============================] - 52s 107ms/step - loss: 3.9791 - accuracy: 0.2113\n",
            "Epoch 28/100\n",
            "484/484 [==============================] - 51s 106ms/step - loss: 3.8685 - accuracy: 0.2308\n",
            "Epoch 29/100\n",
            "484/484 [==============================] - 51s 106ms/step - loss: 3.7831 - accuracy: 0.2503\n",
            "Epoch 30/100\n",
            "484/484 [==============================] - 51s 105ms/step - loss: 3.6448 - accuracy: 0.2723\n",
            "Epoch 31/100\n",
            "484/484 [==============================] - 51s 105ms/step - loss: 3.5712 - accuracy: 0.2885\n",
            "Epoch 32/100\n",
            "484/484 [==============================] - 51s 106ms/step - loss: 3.5045 - accuracy: 0.2960\n",
            "Epoch 33/100\n",
            "484/484 [==============================] - 51s 106ms/step - loss: 3.3985 - accuracy: 0.3270\n",
            "Epoch 34/100\n",
            "484/484 [==============================] - 51s 105ms/step - loss: 3.3202 - accuracy: 0.3401\n",
            "Epoch 35/100\n",
            "484/484 [==============================] - 51s 105ms/step - loss: 3.2165 - accuracy: 0.3644\n",
            "Epoch 36/100\n",
            "484/484 [==============================] - 51s 105ms/step - loss: 3.1382 - accuracy: 0.3872\n",
            "Epoch 37/100\n",
            "484/484 [==============================] - 51s 106ms/step - loss: 3.0797 - accuracy: 0.3987\n",
            "Epoch 38/100\n",
            "484/484 [==============================] - 51s 105ms/step - loss: 2.9768 - accuracy: 0.4237\n",
            "Epoch 39/100\n",
            "484/484 [==============================] - 51s 106ms/step - loss: 2.9196 - accuracy: 0.4333\n",
            "Epoch 40/100\n",
            "484/484 [==============================] - 51s 105ms/step - loss: 2.8352 - accuracy: 0.4571\n",
            "Epoch 41/100\n",
            "484/484 [==============================] - 51s 106ms/step - loss: 2.8003 - accuracy: 0.4642\n",
            "Epoch 42/100\n",
            "484/484 [==============================] - 51s 105ms/step - loss: 2.7173 - accuracy: 0.4845\n",
            "Epoch 43/100\n",
            "484/484 [==============================] - 51s 105ms/step - loss: 2.6258 - accuracy: 0.5015\n",
            "Epoch 44/100\n",
            "484/484 [==============================] - 51s 106ms/step - loss: 2.5888 - accuracy: 0.5126\n",
            "Epoch 45/100\n",
            "484/484 [==============================] - 51s 106ms/step - loss: 2.5515 - accuracy: 0.5172\n",
            "Epoch 46/100\n",
            "484/484 [==============================] - 51s 106ms/step - loss: 2.4889 - accuracy: 0.5346\n",
            "Epoch 47/100\n",
            "484/484 [==============================] - 51s 106ms/step - loss: 2.4281 - accuracy: 0.5517\n",
            "Epoch 48/100\n",
            "484/484 [==============================] - 51s 106ms/step - loss: 2.3586 - accuracy: 0.5645\n",
            "Epoch 49/100\n",
            "484/484 [==============================] - 51s 105ms/step - loss: 2.3057 - accuracy: 0.5778\n",
            "Epoch 50/100\n",
            "484/484 [==============================] - 51s 106ms/step - loss: 2.2855 - accuracy: 0.5855\n",
            "Epoch 51/100\n",
            "484/484 [==============================] - 51s 106ms/step - loss: 2.2482 - accuracy: 0.5880\n",
            "Epoch 52/100\n",
            "484/484 [==============================] - 51s 106ms/step - loss: 2.1786 - accuracy: 0.5984\n",
            "Epoch 53/100\n",
            "484/484 [==============================] - 52s 107ms/step - loss: 2.1390 - accuracy: 0.6178\n",
            "Epoch 54/100\n",
            "484/484 [==============================] - 51s 106ms/step - loss: 2.1205 - accuracy: 0.6163\n",
            "Epoch 55/100\n",
            "484/484 [==============================] - 51s 105ms/step - loss: 2.0350 - accuracy: 0.6378\n",
            "Epoch 56/100\n",
            "484/484 [==============================] - 51s 106ms/step - loss: 1.9942 - accuracy: 0.6483\n",
            "Epoch 57/100\n",
            "484/484 [==============================] - 51s 106ms/step - loss: 1.9520 - accuracy: 0.6537\n",
            "Epoch 58/100\n",
            "484/484 [==============================] - 51s 105ms/step - loss: 1.9629 - accuracy: 0.6506\n",
            "Epoch 59/100\n",
            "484/484 [==============================] - 51s 106ms/step - loss: 1.8982 - accuracy: 0.6704\n",
            "Epoch 60/100\n",
            "484/484 [==============================] - 51s 105ms/step - loss: 1.8740 - accuracy: 0.6743\n",
            "Epoch 61/100\n",
            "484/484 [==============================] - 51s 106ms/step - loss: 1.8195 - accuracy: 0.6772\n",
            "Epoch 62/100\n",
            "484/484 [==============================] - 51s 106ms/step - loss: 1.7846 - accuracy: 0.6866\n",
            "Epoch 63/100\n",
            "484/484 [==============================] - 51s 106ms/step - loss: 1.7862 - accuracy: 0.6862\n",
            "Epoch 64/100\n",
            "484/484 [==============================] - 51s 106ms/step - loss: 1.7572 - accuracy: 0.6987\n",
            "Epoch 65/100\n",
            "484/484 [==============================] - 51s 106ms/step - loss: 1.7629 - accuracy: 0.6960\n",
            "Epoch 66/100\n",
            "484/484 [==============================] - 51s 106ms/step - loss: 1.6955 - accuracy: 0.7106\n",
            "Epoch 67/100\n",
            "484/484 [==============================] - 51s 106ms/step - loss: 1.6695 - accuracy: 0.7106\n",
            "Epoch 68/100\n",
            "484/484 [==============================] - 51s 106ms/step - loss: 1.6167 - accuracy: 0.7263\n",
            "Epoch 69/100\n",
            "484/484 [==============================] - 51s 106ms/step - loss: 1.6187 - accuracy: 0.7255\n",
            "Epoch 70/100\n",
            "484/484 [==============================] - 51s 106ms/step - loss: 1.6248 - accuracy: 0.7186\n",
            "Epoch 71/100\n",
            "484/484 [==============================] - 51s 106ms/step - loss: 1.5496 - accuracy: 0.7389\n",
            "Epoch 72/100\n",
            "484/484 [==============================] - 51s 106ms/step - loss: 1.5281 - accuracy: 0.7401\n",
            "Epoch 73/100\n",
            "484/484 [==============================] - 51s 106ms/step - loss: 1.5267 - accuracy: 0.7402\n",
            "Epoch 74/100\n",
            "484/484 [==============================] - 52s 108ms/step - loss: 1.5384 - accuracy: 0.7378\n",
            "Epoch 75/100\n",
            "484/484 [==============================] - 53s 109ms/step - loss: 1.5158 - accuracy: 0.7407\n",
            "Epoch 76/100\n",
            "484/484 [==============================] - 53s 109ms/step - loss: 1.4631 - accuracy: 0.7536\n",
            "Epoch 77/100\n",
            "484/484 [==============================] - 53s 109ms/step - loss: 1.4701 - accuracy: 0.7530\n",
            "Epoch 78/100\n",
            "484/484 [==============================] - 53s 109ms/step - loss: 1.4132 - accuracy: 0.7623\n",
            "Epoch 79/100\n",
            "484/484 [==============================] - 53s 109ms/step - loss: 1.4234 - accuracy: 0.7586\n",
            "Epoch 80/100\n",
            "484/484 [==============================] - 53s 109ms/step - loss: 1.4122 - accuracy: 0.7586\n",
            "Epoch 81/100\n",
            "484/484 [==============================] - 53s 109ms/step - loss: 1.3966 - accuracy: 0.7615\n",
            "Epoch 82/100\n",
            "484/484 [==============================] - 53s 109ms/step - loss: 1.3633 - accuracy: 0.7704\n",
            "Epoch 83/100\n",
            "484/484 [==============================] - 53s 109ms/step - loss: 1.3321 - accuracy: 0.7767\n",
            "Epoch 84/100\n",
            "484/484 [==============================] - 53s 110ms/step - loss: 1.3301 - accuracy: 0.7737\n",
            "Epoch 85/100\n",
            "484/484 [==============================] - 53s 110ms/step - loss: 1.2992 - accuracy: 0.7847\n",
            "Epoch 86/100\n",
            "484/484 [==============================] - 53s 109ms/step - loss: 1.3049 - accuracy: 0.7849\n",
            "Epoch 87/100\n",
            "484/484 [==============================] - 53s 110ms/step - loss: 1.2555 - accuracy: 0.7893\n",
            "Epoch 88/100\n",
            "484/484 [==============================] - 53s 110ms/step - loss: 1.2918 - accuracy: 0.7798\n",
            "Epoch 89/100\n",
            "484/484 [==============================] - 53s 110ms/step - loss: 1.2731 - accuracy: 0.7866\n",
            "Epoch 90/100\n",
            "484/484 [==============================] - 53s 109ms/step - loss: 1.2445 - accuracy: 0.7910\n",
            "Epoch 91/100\n",
            "484/484 [==============================] - 53s 110ms/step - loss: 1.2309 - accuracy: 0.7946\n",
            "Epoch 92/100\n",
            "484/484 [==============================] - 53s 109ms/step - loss: 1.2029 - accuracy: 0.7983\n",
            "Epoch 93/100\n",
            "484/484 [==============================] - 53s 109ms/step - loss: 1.2310 - accuracy: 0.7898\n",
            "Epoch 94/100\n",
            "484/484 [==============================] - 53s 109ms/step - loss: 1.2329 - accuracy: 0.7868\n",
            "Epoch 95/100\n",
            "484/484 [==============================] - 53s 109ms/step - loss: 1.1775 - accuracy: 0.7977\n",
            "Epoch 96/100\n",
            "484/484 [==============================] - 53s 110ms/step - loss: 1.1686 - accuracy: 0.8044\n",
            "Epoch 97/100\n",
            "484/484 [==============================] - 53s 109ms/step - loss: 1.1782 - accuracy: 0.7995\n",
            "Epoch 98/100\n",
            "484/484 [==============================] - 53s 110ms/step - loss: 1.1557 - accuracy: 0.8058\n",
            "Epoch 99/100\n",
            "484/484 [==============================] - 53s 109ms/step - loss: 1.1528 - accuracy: 0.7991\n",
            "Epoch 100/100\n",
            "484/484 [==============================] - 52s 108ms/step - loss: 1.1393 - accuracy: 0.8057\n"
          ],
          "name": "stdout"
        }
      ]
    },
    {
      "cell_type": "code",
      "metadata": {
        "colab": {
          "base_uri": "https://localhost:8080/",
          "height": 545
        },
        "id": "1fXTEO3GJ282",
        "outputId": "ccc633ce-c6e1-4228-c7bb-cb3fce5351f3"
      },
      "source": [
        "import matplotlib.pyplot as plt\n",
        "acc = history.history['accuracy']\n",
        "loss = history.history['loss']\n",
        "\n",
        "epochs = range(len(acc))\n",
        "\n",
        "plt.plot(epochs, acc, 'b', label='Training accuracy')\n",
        "plt.title('Training accuracy')\n",
        "\n",
        "plt.figure()\n",
        "\n",
        "plt.plot(epochs, loss, 'b', label='Training Loss')\n",
        "plt.title('Training loss')\n",
        "plt.legend()\n",
        "\n",
        "plt.show()"
      ],
      "execution_count": 5,
      "outputs": [
        {
          "output_type": "display_data",
          "data": {
            "image/png": "[encoded data removed]",
            "text/plain": [
              "<Figure size 432x288 with 1 Axes>"
            ]
          },
          "metadata": {
            "tags": [],
            "needs_background": "light"
          }
        },
        {
          "output_type": "display_data",
          "data": {
            "image/png": "[encoded data removed]",
            "text/plain": [
              "<Figure size 432x288 with 1 Axes>"
            ]
          },
          "metadata": {
            "tags": [],
            "needs_background": "light"
          }
        }
      ]
    },
    {
      "cell_type": "code",
      "metadata": {
        "colab": {
          "base_uri": "https://localhost:8080/"
        },
        "id": "6Vc6PHgxa6Hm",
        "outputId": "c0084f80-5681-4487-abe5-1f18fe96474a"
      },
      "source": [
        "seed_text = \"Help me Obi Wan Kenobi, you're my only hope\"\n",
        "next_words = 100\n",
        "  \n",
        "for _ in range(next_words):\n",
        "\ttoken_list = tokenizer.texts_to_sequences([seed_text])[0]\n",
        "\ttoken_list = pad_sequences([token_list], maxlen=max_sequence_len-1, padding='pre')\n",
        "\tpredicted = model.predict_classes(token_list, verbose=0)\n",
        "\toutput_word = \"\"\n",
        "\tfor word, index in tokenizer.word_index.items():\n",
        "\t\tif index == predicted:\n",
        "\t\t\toutput_word = word\n",
        "\t\t\tbreak\n",
        "\tseed_text += \" \" + output_word\n",
        "print(seed_text)"
      ],
      "execution_count": 6,
      "outputs": [
        {
          "output_type": "stream",
          "text": [
            "/usr/local/lib/python3.7/dist-packages/tensorflow/python/keras/engine/sequential.py:450: UserWarning: `model.predict_classes()` is deprecated and will be removed after 2021-01-01. Please use instead:* `np.argmax(model.predict(x), axis=-1)`,   if your model does multi-class classification   (e.g. if it uses a `softmax` last-layer activation).* `(model.predict(x) > 0.5).astype(\"int32\")`,   if your model does binary classification   (e.g. if it uses a `sigmoid` last-layer activation).\n",
            "  warnings.warn('`model.predict_classes()` is deprecated and '\n"
          ],
          "name": "stderr"
        },
        {
          "output_type": "stream",
          "text": [
            "Help me Obi Wan Kenobi, you're my only hope wide desire doth use me hate back gather'd bad perjured lips still well good hate need ' there live swearing there knows when good breast be despair on thee on single life told no more bright eye as thee is perjured ill lack days lived well he so alone so none contains brought in worth in call thee living call good kind ' live did lie so still such kind ' doth thee still dost lie to this lie on my life is thee live doth good rage ' live go well lived knows fair well young hath in youth\n"
          ],
          "name": "stdout"
        }
      ]
    }
  ]
}